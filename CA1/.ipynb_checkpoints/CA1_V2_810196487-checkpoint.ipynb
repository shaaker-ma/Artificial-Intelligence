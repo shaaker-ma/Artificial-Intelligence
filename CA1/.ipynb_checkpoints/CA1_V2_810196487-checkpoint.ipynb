{
 "cells": [
  {
   "cell_type": "markdown",
   "metadata": {},
   "source": [
    "# <font color='black'><center><center></font> \n",
    "![title](img/All.png) \n",
    "# <font color='white'><center><center></font> \n",
    "# <font><center>Artificial Intelligence<center></font>\n",
    "# <font ><center>CA1<center></font>\n",
    "## <center>Teacher: Dr. Fadaei<center>\n",
    "### <center>Student Name: Mohammadali Shakerdargah<center>\n",
    "### <center>Student Number: 810098002<center>\n"
   ]
  },
  {
   "cell_type": "markdown",
   "metadata": {},
   "source": [
    "### <font color='white'>Purpose:</font>\n",
    "\n",
    "    In this project we are going to use \"Search algorithms\" to find the most optimum \n",
    "    solution.In this project, we learn how to implement both Informed and Uninformed \n",
    "    search strategies in a problem of \"Maze\", Then we will examine the implementations \n",
    "    then compare them in different ways. \n",
    "    we are  going to use \"BFS\", \"IDS\", \"A*\", and  \"Weighted A*\" consuming some condition\n",
    "    that problem has stated.\n",
    "    \n",
    "### <font color='white'>What  we did in this project:</font>\n",
    "\n",
    "    Section A:\n",
    "        Initial State, Actions, Transition Model, Goal State, Path Cost\n",
    "    \n",
    "    Section B: \n",
    "        Part1: Comparing BFS, IDS, A*, and Weighted A*\n",
    "        Part2: Importing libraries, Defining Node class, Necessary functions\n",
    "        \n",
    "    Section C: BFS\n",
    "        Part1: Implementation and code \n",
    "        Part2: Solution\n",
    "    \n",
    "    Section D: IDS\n",
    "        Part1: Implementation and code \n",
    "        Part2: Solution\n",
    "    \n",
    "    Section E: A*\n",
    "        Part1: Implementation and code \n",
    "        Part2: Solution\n",
    "        \n",
    "    Section D: Weighted A*\n",
    "        Part1: Implementation and code \n",
    "        Part2: Solution"
   ]
  },
  {
   "cell_type": "markdown",
   "metadata": {},
   "source": [
    "##  <font color='brown'>Part A: Initial State, Actions, Transition Model, Goal Statet</font>"
   ]
  },
  {
   "cell_type": "markdown",
   "metadata": {},
   "source": [
    "\n",
    "### Initial state:\n",
    "    Initial state is the state that our agent will start from, in this case our traveler will start his state at a given position.\n",
    "    \n",
    "### Actions:\n",
    "    Actions can be done by the agent so that it can reach another state, in this case our traveler can have 6 actions, going Up, Right, Down, and Left and piching up a ball an putting it down under some circumstances.\n",
    "    \n",
    "### Transition Model:\n",
    "    If we call Action \"Up\": If it was allowed, agent will move from (a,b) to (a-1,b)\n",
    "    If we call Action \"RIGHT\": If it was allowed, agent will move from (a,b) to (a,b+1)\n",
    "    If we call Action \"Down\": If it was allowed, agent will move from (a,b) to (a+1,b)\n",
    "    If we call Action \"Left\": If it was allowed, agent will move from (a,b) to (a,b-1)\n",
    "    If we call Action \"PickUpBall\": If it was allowed, agent will pick up the ball\n",
    "    If we call Action \"putDownBall\": If it was allowed, agent will put down the ball\n",
    "    \n",
    "### Goal State:\n",
    "    The Goal state is a state that our agent has successfully passed its task,  in this case our traveler must have put all the balls at their true positions and reached the final point."
   ]
  },
  {
   "cell_type": "markdown",
   "metadata": {},
   "source": [
    "##  <font color='brown'>Part B: Comparing Algorithms & Providing Necessary Codes</font>"
   ]
  },
  {
   "cell_type": "markdown",
   "metadata": {},
   "source": [
    "\n",
    "### Part1: Comparing BFS, IDS, A*, and Weighted A*:\n",
    "#### BFS:\n",
    "    The Breadth First Search (BFS) is an algorithm for traversing or searching tree or graph data structures. It explores all the nodes at the present depth before moving on to the nodes at the next depth level.\n",
    "    BFS is complete and it will give us optimal solution with time complexity of O(b^d).\n",
    "#### IDS:    \n",
    "    The IDS or Iterative Deeping Search is an algorithm based on DFS which controls the depth before expanding another node.\n",
    "     IDS will give us an optimal solution unlike DFS and its time complexity is O(bm).\n",
    "#### A*: \n",
    "    A * algorithm is a searching algorithm that searches for the shortest path between the initial and the final state. It is used in various applications, such as maps.\n",
    "    In maps the A* algorithm is used to calculate the shortest distance between the source (initial state) and the destination (final state).\n",
    "    We will use g(n) as the cost that we have given so far and h(n) as the huristic that estimates th cost from node n to the goal state \n",
    "    A* search is complete and its time complexity is O(b^d).\n",
    "\n",
    "#### Weighted A*: \n",
    "    Weighted A* is just like the A* search but we will multiply the h(n) by an alpha\n",
    "\n",
    "#### Source: https://www.educative.io/\n",
    "    "
   ]
  },
  {
   "cell_type": "code",
   "execution_count": 25,
   "metadata": {},
   "outputs": [
    {
     "name": "stdout",
     "output_type": "stream",
     "text": [
      "Available Themes: \n",
      "   chesterish\n",
      "   grade3\n",
      "   gruvboxd\n",
      "   gruvboxl\n",
      "   monokai\n",
      "   oceans16\n",
      "   onedork\n",
      "   solarizedd\n",
      "   solarizedl\n"
     ]
    }
   ],
   "source": [
    "!jt -l"
   ]
  },
  {
   "cell_type": "code",
   "execution_count": 26,
   "metadata": {},
   "outputs": [],
   "source": [
    "!jt -t onedork -T -N -kl\n",
    "import time\n",
    "import copy\n",
    "import queue\n",
    "import numpy"
   ]
  },
  {
   "cell_type": "code",
   "execution_count": 27,
   "metadata": {},
   "outputs": [],
   "source": [
    "class Node(object):\n",
    "    def __init__(self, _state):\n",
    "        self.state = tuple(_state)\n",
    "        self.parent = None\n",
    "        self.depth = 0\n",
    "        self.ballsState = {}\n",
    "    def printState(self):\n",
    "        print(self.state)\n",
    "    def setParent(self, _Node):\n",
    "        self.parent = _Node\n",
    "    def setDepth(self, _depth):\n",
    "        self.depth = _depth\n",
    "    def setBallsState(self, _ballsState):\n",
    "        self.ballsState = _ballsState\n",
    "    def getState(self):\n",
    "        return self.state\n",
    "    def getParent(self):\n",
    "        return self.parent\n",
    "    def getDepth(self):\n",
    "        return self.depth\n",
    "    def getBallsState(self):\n",
    "        return self.ballsState\n",
    "    def printPath(self,Node):\n",
    "        while(Node.parent != None):\n",
    "            Node.printState()\n",
    "            Node = Node.parent\n",
    "        Node.printState()"
   ]
  },
  {
   "cell_type": "code",
   "execution_count": 28,
   "metadata": {},
   "outputs": [
    {
     "name": "stdout",
     "output_type": "stream",
     "text": [
      "Maze is a  30 * 30 map\n",
      "Start point is:  1   0\n",
      "Final point is:  28   29\n",
      "Bag capacity is: 1\n",
      "Number of balls is: 0\n",
      "ballsPos {}\n"
     ]
    }
   ],
   "source": [
    "file1 = open(\"4.txt\",'r')\n",
    "lines1 = file1.readlines()\n",
    "count = 0\n",
    "countBallsTemp =0\n",
    "for line in lines1:\n",
    "    line = line.split()\n",
    "    if(count ==0):\n",
    "        n, m = int(line[0]),int(line[1])\n",
    "        maze = []\n",
    "        count +=1\n",
    "    elif(count ==1):\n",
    "        startPoint = [int(line[0]),int(line[1])]\n",
    "        count +=1\n",
    "    elif(count == 2):\n",
    "        finalPoint = [int(line[0]),int(line[1])]\n",
    "        count +=1\n",
    "    elif(count == 3):\n",
    "        bagCapacity = int(line[0])\n",
    "        count +=1\n",
    "    elif(count == 4):\n",
    "        numBalls = int(line[0])\n",
    "        countBallsTemp = numBalls\n",
    "        ballsPos = {}\n",
    "        count +=1\n",
    "    elif(count >4 and countBallsTemp>0):\n",
    "        ballsPos.update({(int(line[0]),int(line[1])):(int(line[2]),int(line[3]))})\n",
    "        countBallsTemp -=1\n",
    "        count +=1\n",
    "    else:\n",
    "        maze.append(line)\n",
    "print(\"Maze is a \", n, \"*\", m, \"map\")\n",
    "print(\"Start point is: \", startPoint[0], \" \", startPoint[1])\n",
    "print(\"Final point is: \", finalPoint[0], \" \", finalPoint[1])\n",
    "print(\"Bag capacity is:\", bagCapacity)\n",
    "print(\"Number of balls is:\", numBalls)\n",
    "print(\"ballsPos\", ballsPos)\n",
    "# for i in range(n):\n",
    "#     print(\" \",maze[i],\"\\n\")"
   ]
  },
  {
   "cell_type": "markdown",
   "metadata": {},
   "source": [
    "I first used lists for frontier but it was too slow for pop operation, so I used deque library \n",
    "which gives us \"append operation\" and \"pop operation\" with O(1) time complexity."
   ]
  },
  {
   "cell_type": "code",
   "execution_count": 29,
   "metadata": {},
   "outputs": [],
   "source": [
    "def pathAvailable(node, maze):\n",
    "    n, m = len(maze), len(maze[0])\n",
    "    state = node.getState()\n",
    "    if((state[0] >=0 and state[0] < n) and (state[1] >=0 and state[1] < m)): \n",
    "        if(maze[state[0]][state[1]] != '*'): \n",
    "            return True\n",
    "    return False\n",
    "def goalTest(node, finalPointNode, ballsPos):\n",
    "#     if(not bool(ballsPos)): #All balls are in right place\n",
    "    if(node.getState() == finalPointNode.getState()): #Reached goalPoint\n",
    "        return True\n",
    "    return False"
   ]
  },
  {
   "cell_type": "markdown",
   "metadata": {},
   "source": [
    "##  <font color='brown'>Part C: BFS</font>"
   ]
  },
  {
   "cell_type": "code",
   "execution_count": 30,
   "metadata": {},
   "outputs": [],
   "source": [
    "def bfs(startPointNode, finalPointNode, bagCapacity, numBalls, ballsPos, maze):\n",
    "    frontier = queue.Queue()\n",
    "    frontierSet = [] #ONLY saves position of node\n",
    "    explored = set() #ONLY saves position of node\n",
    "    actions = [[0,1],[1,0],[0,-1],[-1,0]] # right-down-left-up\n",
    "    solDistance, stateSeen, stateSeenUnique = 0,0,0\n",
    "    frontier.put(startPointNode)\n",
    "    frontierSet.append(hash(str(startPointNode.getState())))\n",
    "    if(goalTest(startPointNode, finalPointNode, ballsPos)):\n",
    "        return 0,1,1\n",
    "    while(frontier):\n",
    "        node = frontier.get()\n",
    "        frontierSet.pop(0)\n",
    "        stateSeen, stateSeenUnique = stateSeen+1, stateSeenUnique+1\n",
    "        explored.add(hash(str(node.getState())))\n",
    "        for action in actions:\n",
    "            child = Node([node.getState()[0]+action[0], node.getState()[1]+action[1]])\n",
    "            stateSeen = stateSeen+1\n",
    "            if((hash(str(child.getState())) not in explored) and (hash(str(child.getState())) not in frontierSet)): \n",
    "                stateSeenUnique = stateSeenUnique+1\n",
    "                if(pathAvailable(child,maze)):\n",
    "                   child.setParent(node)\n",
    "                   child.setDepth(node.getDepth()+1)\n",
    "                   if(goalTest(child, finalPointNode, ballsPos)):\n",
    "                       solDistance = child.getDepth()\n",
    "                       print(solDistance)\n",
    "#                        child.printPath(child)\n",
    "                       return solDistance, stateSeen, stateSeenUnique\n",
    "                   frontier.put(child)\n",
    "                   frontierSet.append(hash(str(child.getState())))\n",
    "    print(explored)\n",
    "    return -1, stateSeen, stateSeenUnique"
   ]
  },
  {
   "cell_type": "code",
   "execution_count": 31,
   "metadata": {
    "scrolled": true
   },
   "outputs": [
    {
     "name": "stdout",
     "output_type": "stream",
     "text": [
      "92\n",
      "solDistance 92\n",
      "stateSeen 2277\n",
      "stateSeenUnique 1715\n",
      "time it took: 0.0099945068359375 sec\n",
      "92\n",
      "solDistance 92\n",
      "stateSeen 2277\n",
      "stateSeenUnique 1715\n",
      "time it took: 0.009010791778564453 sec\n",
      "92\n",
      "solDistance 92\n",
      "stateSeen 2277\n",
      "stateSeenUnique 1715\n",
      "time it took: 0.009979248046875 sec\n",
      "\n",
      "Avg time for three operations: 0.009661515553792318 sec\n"
     ]
    }
   ],
   "source": [
    "timeConsumed = []\n",
    "for i in range(3):\n",
    "    startPointNode = Node(startPoint)\n",
    "    finalPointNode = Node(finalPoint)\n",
    "    startTime = time.time()\n",
    "    solDistance, stateSeen, stateSeenUnique = bfs(startPointNode, finalPointNode, bagCapacity, numBalls, ballsPos, maze)\n",
    "    endTime = time.time()\n",
    "    timeConsumed.append(endTime-startTime)\n",
    "    print(\"solDistance\",solDistance)\n",
    "    print(\"stateSeen\",stateSeen)\n",
    "    print(\"stateSeenUnique\",stateSeenUnique)\n",
    "    print(\"time it took:\",(endTime-startTime),\"sec\")\n",
    "print(\"\\nAvg time for three operations:\", ((timeConsumed[0]+timeConsumed[1]+timeConsumed[2])/3),\"sec\")"
   ]
  },
  {
   "cell_type": "markdown",
   "metadata": {},
   "source": [
    "##  <font color='brown'>Part D: IDS</font>"
   ]
  },
  {
   "cell_type": "code",
   "execution_count": 34,
   "metadata": {},
   "outputs": [],
   "source": [
    "def ids(startPointNode, finalPointNode, bagCapacity, numBalls, ballsPos, maze):\n",
    "    actions = [[0,1],[1,0],[0,-1],[-1,0]] # right-down-left-up\n",
    "    solDistance, stateSeen, stateSeenUnique, depthToReach = 0,0,0,1\n",
    "    frontier = []\n",
    "    frontierSet = [] #ONLY saves position of node\n",
    "    explored = set() #ONLY saves position of node\n",
    "    if(goalTest(startPointNode, finalPointNode, ballsPos)):\n",
    "        return 0,1,1\n",
    "    while(True):\n",
    "        frontier.clear()\n",
    "        frontierSet.clear()\n",
    "        explored.clear()\n",
    "        frontier.append(startPointNode)\n",
    "        frontierSet.append(hash(str(startPointNode.getState())))\n",
    "        depthToReach = depthToReach+1\n",
    "        while(frontier):\n",
    "            node = frontier.pop(0)\n",
    "            frontierSet.pop(0)\n",
    "            if(node.getDepth()>depthToReach):\n",
    "                continue\n",
    "            stateSeen, stateSeenUnique = stateSeen+1, stateSeenUnique+1\n",
    "            explored.add(hash(str(node.getState())))\n",
    "            for action in actions:\n",
    "                child = Node([node.getState()[0]+action[0], node.getState()[1]+action[1]])\n",
    "                stateSeen = stateSeen+1\n",
    "                if((hash(str(child.getState())) not in explored) \n",
    "                   and (hash(str(child.getState())) not in frontierSet)): \n",
    "                    stateSeenUnique = stateSeenUnique+1\n",
    "                    if(pathAvailable(child,maze)):\n",
    "                       child.setParent(node)\n",
    "                       child.setDepth(node.getDepth()+1)\n",
    "                       if(goalTest(child, finalPointNode, ballsPos)):\n",
    "                           solDistance = child.getDepth()\n",
    "#                            print(solDistance)\n",
    "#                            child.printPath(child)\n",
    "                           return solDistance, stateSeen, stateSeenUnique\n",
    "                       frontier.append(child)\n",
    "                       frontierSet.append(hash(str(child.getState())))\n",
    "    print(explored)\n",
    "    return -1, stateSeen, stateSeenUnique"
   ]
  },
  {
   "cell_type": "code",
   "execution_count": 35,
   "metadata": {},
   "outputs": [
    {
     "name": "stdout",
     "output_type": "stream",
     "text": [
      "solDistance 92\n",
      "stateSeen 123732\n",
      "stateSeenUnique 92976\n",
      "time it took: 0.40578556060791016 sec\n",
      "solDistance 92\n",
      "stateSeen 123732\n",
      "stateSeenUnique 92976\n",
      "time it took: 0.3992784023284912 sec\n",
      "solDistance 92\n",
      "stateSeen 123732\n",
      "stateSeenUnique 92976\n",
      "time it took: 0.3977952003479004 sec\n"
     ]
    }
   ],
   "source": [
    "timeConsumed = []\n",
    "for i in range(3):\n",
    "    startPointNode = Node(startPoint)\n",
    "    finalPointNode = Node(finalPoint)\n",
    "    startTime = time.time()\n",
    "    solDistance, stateSeen, stateSeenUnique = ids(startPointNode, finalPointNode, bagCapacity, numBalls, ballsPos, maze)\n",
    "    endTime = time.time()\n",
    "    timeConsumed.append(endTime-startTime)\n",
    "    print(\"solDistance\",solDistance)\n",
    "    print(\"stateSeen\",stateSeen)\n",
    "    print(\"stateSeenUnique\",stateSeenUnique)\n",
    "    print(\"time it took:\",(endTime-startTime),\"sec\")\n",
    "# print(\"\\nAvg time for three operations:\", ((timeConsumed[0]+timeConsumed[1]+timeConsumed[2])/3),\"sec\")"
   ]
  }
 ],
 "metadata": {
  "kernelspec": {
   "display_name": "Python 3",
   "language": "python",
   "name": "python3"
  },
  "language_info": {
   "codemirror_mode": {
    "name": "ipython",
    "version": 3
   },
   "file_extension": ".py",
   "mimetype": "text/x-python",
   "name": "python",
   "nbconvert_exporter": "python",
   "pygments_lexer": "ipython3",
   "version": "3.7.0"
  }
 },
 "nbformat": 4,
 "nbformat_minor": 2
}
