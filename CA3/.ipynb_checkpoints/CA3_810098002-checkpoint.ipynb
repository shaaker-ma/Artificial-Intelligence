{
 "cells": [
  {
   "cell_type": "markdown",
   "id": "ab8bb074",
   "metadata": {},
   "source": [
    "# <font color='black'><center><center></font> \n",
    "![title](img/All.png) \n",
    "# <font color='white'><center><center></font> \n",
    "# <font><center>Artificial Intelligence<center></font>\n",
    "## <font ><center>CA3: Naive Bayes<center></font>\n",
    "## <center>Teacher: Dr. Fadaei<center>\n",
    "### <center>Student Name: Mohammadali Shakerdargah<center>\n",
    "### <center>Student Number: 810098002<center>"
   ]
  },
  {
   "cell_type": "markdown",
   "id": "9af02304",
   "metadata": {},
   "source": [
    "### <font color='White'>Purpose:</font>\n",
    "    In this project we are going to use \"Naive Bayes\" to build a classifier model to predict the category of a book using a description and name of the book\n",
    "    \n",
    "### <font color='white'>What  we did in this Project:</font>\n",
    "    In this project we are going to had a training dataset and a test data set to evaluate our model we used \"Naive Bayes\" to build a classifier model to predict the category of a book using a description and name of the book\n",
    "    "
   ]
  },
  {
   "cell_type": "code",
   "execution_count": 1,
   "id": "e59f2522",
   "metadata": {},
   "outputs": [],
   "source": [
    "from __future__ import unicode_literals\n",
    "from hazm import *\n",
    "import pandas as pd\n",
    "import math\n",
    "import operator\n",
    "import matplotlib.pyplot as plt\n",
    "import arabic_reshaper\n",
    "from bidi.algorithm import get_display"
   ]
  },
  {
   "cell_type": "markdown",
   "id": "24a9cc1c",
   "metadata": {},
   "source": [
    "# Phase 0: Resampling\n",
    "    This data does not need resampling, So there is only an explanation of resampling here:\n",
    "    \n",
    "    Resampling is the method that consists of drawing repeated samples from the original data samples. The method of Resampling is a nonparametric method of statistical inference. ... Due to replacement, the drawn number of samples that are used by the method of resampling consists of repetitive cases.\n",
    "    \n",
    "    Resampling is a methodology of economically using a data sample to improve the accuracy and quantify the uncertainty of a population parameter.\n",
    "    \n",
    "    Resources: http://machinelearningmastery.com"
   ]
  },
  {
   "cell_type": "markdown",
   "id": "c60ae437",
   "metadata": {},
   "source": [
    "# Phase 1: Preprocessing"
   ]
  },
  {
   "cell_type": "markdown",
   "id": "1af96917",
   "metadata": {},
   "source": [
    "### Question 1 Answered:\n",
    "In Natural Language Processing it is formal that it is better to work with root of each word. It tells us that prefixes and postfixes are not that necessary for us to participate them in our process.\n",
    "And sometimes they may even reduce our accuracy because all versions of a word are telling us the same thing and almost same info,So we will use 2 methods called \"Stemming\" and \"lemmatization\". these two methods share the same goal, and the goal is to remove unnecessary prefixes and postfixes from a word. I prefered to use \"lemmatization\" because found it beter to use so we won't have (آسمان -> آسم) . It works\n",
    "lemmatizer.lemmatize('می‌روم') -> 'رفت#رو'\n",
    "I could have gone with \"Stemming\" too and it works like this: \n",
    "like this: stemmer.stem('کتاب‌ها') -> 'کتاب'\n",
    "\n",
    "\n"
   ]
  },
  {
   "cell_type": "markdown",
   "id": "87186009",
   "metadata": {},
   "source": [
    "- At first we need to make sure that the data set does not include NAN or missing data, because it might be a problem for our computation for classifing our data.\n",
    "- our pre-processing contains these steps:\n",
    "    - I combined \"description\" and \"title\" columns into \"feature\" which it actually is.\n",
    "    - I wrote a function called dataCleanse() that recieves a dataframe and does these Operations on it:\n",
    "        - It at first normalizes it\n",
    "        - After Normalizing, it will delete unnecessary punctuation from it.\n",
    "        - After deleting un necessary punctuations, it will perform a word_tokenize() approach on it which will devide sentences into a list of words\n",
    "        - After that, I used stop words function to store only the words that are worth saving."
   ]
  },
  {
   "cell_type": "code",
   "execution_count": 2,
   "id": "57c23d3c",
   "metadata": {},
   "outputs": [
    {
     "data": {
      "text/html": [
       "<div>\n",
       "<style scoped>\n",
       "    .dataframe tbody tr th:only-of-type {\n",
       "        vertical-align: middle;\n",
       "    }\n",
       "\n",
       "    .dataframe tbody tr th {\n",
       "        vertical-align: top;\n",
       "    }\n",
       "\n",
       "    .dataframe thead th {\n",
       "        text-align: right;\n",
       "    }\n",
       "</style>\n",
       "<table border=\"1\" class=\"dataframe\">\n",
       "  <thead>\n",
       "    <tr style=\"text-align: right;\">\n",
       "      <th></th>\n",
       "      <th>title</th>\n",
       "      <th>description</th>\n",
       "      <th>categories</th>\n",
       "    </tr>\n",
       "  </thead>\n",
       "  <tbody>\n",
       "    <tr>\n",
       "      <th>0</th>\n",
       "      <td>ساختار نظریه‌های جامعه‌شناسی ایران</td>\n",
       "      <td>«ساختار نظریه‌های جامعه‌شناسی ایران» نوشته ابو...</td>\n",
       "      <td>جامعه‌شناسی</td>\n",
       "    </tr>\n",
       "    <tr>\n",
       "      <th>1</th>\n",
       "      <td>جامعه و فرهنگ کانادا</td>\n",
       "      <td>«جامعه و فرهنگ کانادا» از مجموعه کتاب‌های «جام...</td>\n",
       "      <td>جامعه‌شناسی</td>\n",
       "    </tr>\n",
       "    <tr>\n",
       "      <th>2</th>\n",
       "      <td>پرسش از موعود</td>\n",
       "      <td>پرسش‌های مختلفی درباره زندگی و شخصیت امام مهدی...</td>\n",
       "      <td>کلیات اسلام</td>\n",
       "    </tr>\n",
       "    <tr>\n",
       "      <th>3</th>\n",
       "      <td>موج، دریا</td>\n",
       "      <td>«موج دریا» به قلم مهری ماهوتی (-۱۳۴۰) و تصویرگ...</td>\n",
       "      <td>داستان کودک و نوجوانان</td>\n",
       "    </tr>\n",
       "    <tr>\n",
       "      <th>4</th>\n",
       "      <td>پرسش از غرب</td>\n",
       "      <td>«پرسش از غرب» به قلم دکتر اسماعیل شفیعی سروستا...</td>\n",
       "      <td>جامعه‌شناسی</td>\n",
       "    </tr>\n",
       "    <tr>\n",
       "      <th>...</th>\n",
       "      <td>...</td>\n",
       "      <td>...</td>\n",
       "      <td>...</td>\n",
       "    </tr>\n",
       "    <tr>\n",
       "      <th>2545</th>\n",
       "      <td>قضاوت‌‏های امیرمؤمنان حضرت علی علیه‏‌السلام</td>\n",
       "      <td>آنچه به عنوان قضاوت‌های امیرمؤمنان حضرت علی عل...</td>\n",
       "      <td>کلیات اسلام</td>\n",
       "    </tr>\n",
       "    <tr>\n",
       "      <th>2546</th>\n",
       "      <td>کراماتی از مهدی موعود(عج)</td>\n",
       "      <td>زینب محمودی پژوهشگر دینی است.\\r\\nدر بخشی از پی...</td>\n",
       "      <td>کلیات اسلام</td>\n",
       "    </tr>\n",
       "    <tr>\n",
       "      <th>2547</th>\n",
       "      <td>انتقام، انتقام، انتقام</td>\n",
       "      <td>«انتقام، انتقام، انتقام» داستان‌گونه‌ای با زبا...</td>\n",
       "      <td>داستان کوتاه</td>\n",
       "    </tr>\n",
       "    <tr>\n",
       "      <th>2548</th>\n",
       "      <td>آن مرد می‌آید</td>\n",
       "      <td>«آن مرد می‌آید» به قلم سیده‌فاطمه موسوی و به ت...</td>\n",
       "      <td>داستان کودک و نوجوانان</td>\n",
       "    </tr>\n",
       "    <tr>\n",
       "      <th>2549</th>\n",
       "      <td>امید فردا؛ پاسخ به ۱۱۰ پرسش جوانان درباره امام...</td>\n",
       "      <td>عباس رحیمی(۱۳۲۰-) پژوهشگر دینی است.\\r\\nدر بخشی...</td>\n",
       "      <td>کلیات اسلام</td>\n",
       "    </tr>\n",
       "  </tbody>\n",
       "</table>\n",
       "<p>2550 rows × 3 columns</p>\n",
       "</div>"
      ],
      "text/plain": [
       "                                                  title  \\\n",
       "0                    ساختار نظریه‌های جامعه‌شناسی ایران   \n",
       "1                                  جامعه و فرهنگ کانادا   \n",
       "2                                         پرسش از موعود   \n",
       "3                                             موج، دریا   \n",
       "4                                           پرسش از غرب   \n",
       "...                                                 ...   \n",
       "2545        قضاوت‌‏های امیرمؤمنان حضرت علی علیه‏‌السلام   \n",
       "2546                          کراماتی از مهدی موعود(عج)   \n",
       "2547                             انتقام، انتقام، انتقام   \n",
       "2548                                      آن مرد می‌آید   \n",
       "2549  امید فردا؛ پاسخ به ۱۱۰ پرسش جوانان درباره امام...   \n",
       "\n",
       "                                            description  \\\n",
       "0     «ساختار نظریه‌های جامعه‌شناسی ایران» نوشته ابو...   \n",
       "1     «جامعه و فرهنگ کانادا» از مجموعه کتاب‌های «جام...   \n",
       "2     پرسش‌های مختلفی درباره زندگی و شخصیت امام مهدی...   \n",
       "3     «موج دریا» به قلم مهری ماهوتی (-۱۳۴۰) و تصویرگ...   \n",
       "4     «پرسش از غرب» به قلم دکتر اسماعیل شفیعی سروستا...   \n",
       "...                                                 ...   \n",
       "2545  آنچه به عنوان قضاوت‌های امیرمؤمنان حضرت علی عل...   \n",
       "2546  زینب محمودی پژوهشگر دینی است.\\r\\nدر بخشی از پی...   \n",
       "2547  «انتقام، انتقام، انتقام» داستان‌گونه‌ای با زبا...   \n",
       "2548  «آن مرد می‌آید» به قلم سیده‌فاطمه موسوی و به ت...   \n",
       "2549  عباس رحیمی(۱۳۲۰-) پژوهشگر دینی است.\\r\\nدر بخشی...   \n",
       "\n",
       "                  categories  \n",
       "0                جامعه‌شناسی  \n",
       "1                جامعه‌شناسی  \n",
       "2                کلیات اسلام  \n",
       "3     داستان کودک و نوجوانان  \n",
       "4                جامعه‌شناسی  \n",
       "...                      ...  \n",
       "2545             کلیات اسلام  \n",
       "2546             کلیات اسلام  \n",
       "2547            داستان کوتاه  \n",
       "2548  داستان کودک و نوجوانان  \n",
       "2549             کلیات اسلام  \n",
       "\n",
       "[2550 rows x 3 columns]"
      ]
     },
     "execution_count": 2,
     "metadata": {},
     "output_type": "execute_result"
    }
   ],
   "source": [
    "train_data = pd.read_csv(\"books_train.csv\")\n",
    "test_data = pd.read_csv(\"books_test.csv\")\n",
    "train_data"
   ]
  },
  {
   "cell_type": "code",
   "execution_count": 3,
   "id": "8ceb269e",
   "metadata": {},
   "outputs": [
    {
     "name": "stdout",
     "output_type": "stream",
     "text": [
      "<class 'pandas.core.frame.DataFrame'>\n",
      "RangeIndex: 2550 entries, 0 to 2549\n",
      "Data columns (total 3 columns):\n",
      " #   Column       Non-Null Count  Dtype \n",
      "---  ------       --------------  ----- \n",
      " 0   title        2550 non-null   object\n",
      " 1   description  2550 non-null   object\n",
      " 2   categories   2550 non-null   object\n",
      "dtypes: object(3)\n",
      "memory usage: 59.9+ KB\n"
     ]
    }
   ],
   "source": [
    "train_data.info()"
   ]
  },
  {
   "cell_type": "code",
   "execution_count": 4,
   "id": "b5b9650b",
   "metadata": {},
   "outputs": [
    {
     "data": {
      "text/plain": [
       "title          0\n",
       "description    0\n",
       "categories     0\n",
       "dtype: int64"
      ]
     },
     "execution_count": 4,
     "metadata": {},
     "output_type": "execute_result"
    }
   ],
   "source": [
    "train_data.isnull().sum()"
   ]
  },
  {
   "cell_type": "code",
   "execution_count": 5,
   "id": "7f13ea93",
   "metadata": {},
   "outputs": [],
   "source": [
    "train_data['feature'] = train_data['title']+ train_data['description']\n",
    "train_data = train_data.drop('title', 1)\n",
    "train_data = train_data.drop('description', 1)\n",
    "test_data['feature'] = test_data['title']+ test_data['description']\n",
    "test_data = test_data.drop('title', 1)\n",
    "test_data = test_data.drop('description', 1)"
   ]
  },
  {
   "cell_type": "code",
   "execution_count": 6,
   "id": "284684bb",
   "metadata": {},
   "outputs": [],
   "source": [
    "def dataCleanse(df):\n",
    "    normalizer = Normalizer()\n",
    "    lemmatizer = Lemmatizer() \n",
    "    for col in df:\n",
    "        for i in range(len(df[col])):\n",
    "            df[col][i] = normalizer.normalize(df[col][i])\n",
    "            \n",
    "    punctuations = set('''!()-[]{};:'\"\\,٬٫،<>./?@#$%٪^&*×ـ+=_~.؟؛«»|…''') #Set of unnecessary punctuations\n",
    "    for i in range(len(df['feature'])):\n",
    "        without_punctuations = \"\"\n",
    "        for char in df['feature'][i]:\n",
    "            if(char not in punctuations):\n",
    "                without_punctuations = without_punctuations + char\n",
    "        df['feature'][i] = word_tokenize(without_punctuations)\n",
    "        \n",
    "    stops = set(stopwords_list()) #List of unnecessary words\n",
    "    for i in range(len(df[col])):\n",
    "        wordsWithoutStops = []\n",
    "        for j in range(len(df[col][i])):\n",
    "            if(df[col][i][j] not in stops):\n",
    "                wordsWithoutStops.append(lemmatizer.lemmatize(df['feature'][i][j]))\n",
    "        df[col][i] = wordsWithoutStops\n",
    "    return df"
   ]
  },
  {
   "cell_type": "code",
   "execution_count": 7,
   "id": "0a168f14",
   "metadata": {},
   "outputs": [],
   "source": [
    "train_data = dataCleanse(train_data)\n",
    "test_data = dataCleanse(test_data)"
   ]
  },
  {
   "cell_type": "code",
   "execution_count": 8,
   "id": "42148757",
   "metadata": {},
   "outputs": [
    {
     "data": {
      "text/html": [
       "<div>\n",
       "<style scoped>\n",
       "    .dataframe tbody tr th:only-of-type {\n",
       "        vertical-align: middle;\n",
       "    }\n",
       "\n",
       "    .dataframe tbody tr th {\n",
       "        vertical-align: top;\n",
       "    }\n",
       "\n",
       "    .dataframe thead th {\n",
       "        text-align: right;\n",
       "    }\n",
       "</style>\n",
       "<table border=\"1\" class=\"dataframe\">\n",
       "  <thead>\n",
       "    <tr style=\"text-align: right;\">\n",
       "      <th></th>\n",
       "      <th>categories</th>\n",
       "      <th>feature</th>\n",
       "    </tr>\n",
       "  </thead>\n",
       "  <tbody>\n",
       "    <tr>\n",
       "      <th>0</th>\n",
       "      <td>جامعه‌شناسی</td>\n",
       "      <td>[ساختار, نظریه, جامعه‌شناس, ایران, ساختار, نظر...</td>\n",
       "    </tr>\n",
       "    <tr>\n",
       "      <th>1</th>\n",
       "      <td>جامعه‌شناسی</td>\n",
       "      <td>[جامعه, فرهنگ, کانادا, جامعه, فرهنگ, کانادا, م...</td>\n",
       "    </tr>\n",
       "    <tr>\n",
       "      <th>2</th>\n",
       "      <td>کلیات اسلام</td>\n",
       "      <td>[پرسش, موعودپرسش‌های, مختلف, زندگی, شخصیت, اما...</td>\n",
       "    </tr>\n",
       "    <tr>\n",
       "      <th>3</th>\n",
       "      <td>داستان کودک و نوجوانان</td>\n",
       "      <td>[موج, دریا, موج, دریا, قلم, مهر, ماهوت, ۱۳۴۰, ...</td>\n",
       "    </tr>\n",
       "    <tr>\n",
       "      <th>4</th>\n",
       "      <td>جامعه‌شناسی</td>\n",
       "      <td>[پرسش, غرب, پرسش, غرب, قلم, دکتر, اسماعیل, شفی...</td>\n",
       "    </tr>\n",
       "  </tbody>\n",
       "</table>\n",
       "</div>"
      ],
      "text/plain": [
       "               categories                                            feature\n",
       "0             جامعه‌شناسی  [ساختار, نظریه, جامعه‌شناس, ایران, ساختار, نظر...\n",
       "1             جامعه‌شناسی  [جامعه, فرهنگ, کانادا, جامعه, فرهنگ, کانادا, م...\n",
       "2             کلیات اسلام  [پرسش, موعودپرسش‌های, مختلف, زندگی, شخصیت, اما...\n",
       "3  داستان کودک و نوجوانان  [موج, دریا, موج, دریا, قلم, مهر, ماهوت, ۱۳۴۰, ...\n",
       "4             جامعه‌شناسی  [پرسش, غرب, پرسش, غرب, قلم, دکتر, اسماعیل, شفی..."
      ]
     },
     "execution_count": 8,
     "metadata": {},
     "output_type": "execute_result"
    }
   ],
   "source": [
    "train_data.head(5)"
   ]
  },
  {
   "cell_type": "markdown",
   "id": "d8fc4acc",
   "metadata": {},
   "source": [
    "# Phase 2: Problem procedure "
   ]
  },
  {
   "cell_type": "markdown",
   "id": "a1a08523",
   "metadata": {},
   "source": [
    "- In this project we are going to use \"Naive Bayse Algorithm\" which in this case that our data are sentences, we will perform a strategy called \"Bag of Words\"\n",
    "- In \"Bag of Words\" strategy, we don't care about the position of the word in our sentence(which might put us in trouble) and we only care about that word's existance and it would not depend on position of other words (so it is indipendent). "
   ]
  },
  {
   "cell_type": "markdown",
   "id": "36be8313",
   "metadata": {},
   "source": [
    "### Question 2 Answered:\n",
    "- To solve this problem with \"Naive Bayse Algorithm\" we can use the basic concept behind it which is shown below:\n",
    "![title](img/NaiveBayse.png) \n",
    "- Now I will explain what \"evidence, likelihood, prior, posterior\" are in our problem:\n",
    "At first, Evidence is sth that we have and query is the thing that we desire to know, now:\n",
    "- Posterior probability: this is the probabity of the category(c) whit condition that we have a given evidence(x) that in this case is the text description and title of the book. \n",
    "    - it says how much is  the probabilty of it if we are given this text containing words (\"title + description\") to belong to a certain category\n",
    "- Likelyhood: It is actualy reverse of Posterior probability, this is the probabity of the text(description and title) of the book(x)  given the category (c).\n",
    "    - it says how much is  the probabilty of when we are given certain category(c), these words would exist.\n",
    "- Class prior probability: this is the probability of accuring a category c among all categories\n",
    "- Predictor prior probability: this is the probability of a text consisting of set of word equal to x"
   ]
  },
  {
   "cell_type": "markdown",
   "id": "0791c55f",
   "metadata": {},
   "source": [
    "Procedure here:\n",
    "- mapping categories to numbers\n",
    "- devide classes and calculate the frequency of each word in that class\n",
    "- based on frequencies, we will assign probability to each word\n",
    "- base on probabilty of each word, wew will calculate probanbility of a \"bag of words\" to see if they belong to any of our classes\n",
    "- we will predict the class of each data in the test_data"
   ]
  },
  {
   "cell_type": "code",
   "execution_count": 9,
   "id": "1fe10be9",
   "metadata": {},
   "outputs": [],
   "source": [
    "def categoryMap(df, mapper):\n",
    "    for i in range(len(df['categories'])):\n",
    "        df['categories'][i] = mapper.get(df['categories'][i])\n",
    "    return df"
   ]
  },
  {
   "cell_type": "code",
   "execution_count": 10,
   "id": "c4c893b6",
   "metadata": {},
   "outputs": [
    {
     "name": "stdout",
     "output_type": "stream",
     "text": [
      "Mapped:  جامعه‌شناسی  ->  0\n",
      "Mapped:  کلیات اسلام  ->  1\n",
      "Mapped:  داستان کودک و نوجوانان  ->  2\n",
      "Mapped:  داستان کوتاه  ->  3\n",
      "Mapped:  مدیریت و کسب و کار  ->  4\n",
      "Mapped:  رمان  ->  5\n"
     ]
    }
   ],
   "source": [
    "uniqueCategories = train_data['categories'].unique()\n",
    "categories ={}\n",
    "for i in range(len(uniqueCategories)):\n",
    "    categories[uniqueCategories[i]] = i\n",
    "for category in categories:\n",
    "    print(\"Mapped: \",category,\" -> \", categories.get(category))"
   ]
  },
  {
   "cell_type": "code",
   "execution_count": 11,
   "id": "e647afb7",
   "metadata": {},
   "outputs": [],
   "source": [
    "train_data = categoryMap(train_data, categories)\n",
    "test_data = categoryMap(test_data, categories)"
   ]
  },
  {
   "cell_type": "code",
   "execution_count": 12,
   "id": "364542c6",
   "metadata": {},
   "outputs": [
    {
     "data": {
      "text/html": [
       "<div>\n",
       "<style scoped>\n",
       "    .dataframe tbody tr th:only-of-type {\n",
       "        vertical-align: middle;\n",
       "    }\n",
       "\n",
       "    .dataframe tbody tr th {\n",
       "        vertical-align: top;\n",
       "    }\n",
       "\n",
       "    .dataframe thead th {\n",
       "        text-align: right;\n",
       "    }\n",
       "</style>\n",
       "<table border=\"1\" class=\"dataframe\">\n",
       "  <thead>\n",
       "    <tr style=\"text-align: right;\">\n",
       "      <th></th>\n",
       "      <th>categories</th>\n",
       "      <th>feature</th>\n",
       "    </tr>\n",
       "  </thead>\n",
       "  <tbody>\n",
       "    <tr>\n",
       "      <th>0</th>\n",
       "      <td>0</td>\n",
       "      <td>[ساختار, نظریه, جامعه‌شناس, ایران, ساختار, نظر...</td>\n",
       "    </tr>\n",
       "    <tr>\n",
       "      <th>1</th>\n",
       "      <td>0</td>\n",
       "      <td>[جامعه, فرهنگ, کانادا, جامعه, فرهنگ, کانادا, م...</td>\n",
       "    </tr>\n",
       "    <tr>\n",
       "      <th>4</th>\n",
       "      <td>0</td>\n",
       "      <td>[پرسش, غرب, پرسش, غرب, قلم, دکتر, اسماعیل, شفی...</td>\n",
       "    </tr>\n",
       "    <tr>\n",
       "      <th>9</th>\n",
       "      <td>0</td>\n",
       "      <td>[رویکرد, اختلالات, مصرف, مواد, مشاوره, اعتیاد,...</td>\n",
       "    </tr>\n",
       "    <tr>\n",
       "      <th>10</th>\n",
       "      <td>0</td>\n",
       "      <td>[جست‌وجو, معنا, رهیافت, معناشناختی, علم, اطلاع...</td>\n",
       "    </tr>\n",
       "    <tr>\n",
       "      <th>...</th>\n",
       "      <td>...</td>\n",
       "      <td>...</td>\n",
       "    </tr>\n",
       "    <tr>\n",
       "      <th>2525</th>\n",
       "      <td>0</td>\n",
       "      <td>[ارتباط, جو, سازمان, رفتار, شهروند, سازمان, مع...</td>\n",
       "    </tr>\n",
       "    <tr>\n",
       "      <th>2526</th>\n",
       "      <td>0</td>\n",
       "      <td>[تغییرات, چالش, آینده, خانواده, ایران, شناخت, ...</td>\n",
       "    </tr>\n",
       "    <tr>\n",
       "      <th>2528</th>\n",
       "      <td>0</td>\n",
       "      <td>[طبقه, تن‌پرور, طبقه, تن‌پرور, نوشته, تورستین,...</td>\n",
       "    </tr>\n",
       "    <tr>\n",
       "      <th>2535</th>\n",
       "      <td>0</td>\n",
       "      <td>[بن, هندل, تاکسی‌نگاری, مردم‌نگاری, گفت‌وگو, ت...</td>\n",
       "    </tr>\n",
       "    <tr>\n",
       "      <th>2539</th>\n",
       "      <td>0</td>\n",
       "      <td>[انگیزه, دین, گسترش, سواد, رسانه, انگیزه, دین,...</td>\n",
       "    </tr>\n",
       "  </tbody>\n",
       "</table>\n",
       "<p>425 rows × 2 columns</p>\n",
       "</div>"
      ],
      "text/plain": [
       "     categories                                            feature\n",
       "0             0  [ساختار, نظریه, جامعه‌شناس, ایران, ساختار, نظر...\n",
       "1             0  [جامعه, فرهنگ, کانادا, جامعه, فرهنگ, کانادا, م...\n",
       "4             0  [پرسش, غرب, پرسش, غرب, قلم, دکتر, اسماعیل, شفی...\n",
       "9             0  [رویکرد, اختلالات, مصرف, مواد, مشاوره, اعتیاد,...\n",
       "10            0  [جست‌وجو, معنا, رهیافت, معناشناختی, علم, اطلاع...\n",
       "...         ...                                                ...\n",
       "2525          0  [ارتباط, جو, سازمان, رفتار, شهروند, سازمان, مع...\n",
       "2526          0  [تغییرات, چالش, آینده, خانواده, ایران, شناخت, ...\n",
       "2528          0  [طبقه, تن‌پرور, طبقه, تن‌پرور, نوشته, تورستین,...\n",
       "2535          0  [بن, هندل, تاکسی‌نگاری, مردم‌نگاری, گفت‌وگو, ت...\n",
       "2539          0  [انگیزه, دین, گسترش, سواد, رسانه, انگیزه, دین,...\n",
       "\n",
       "[425 rows x 2 columns]"
      ]
     },
     "execution_count": 12,
     "metadata": {},
     "output_type": "execute_result"
    }
   ],
   "source": [
    "train_data_class_0 = train_data.loc[train_data['categories'].isin([0])]\n",
    "train_data_class_1 = train_data.loc[train_data['categories'].isin([1])]\n",
    "train_data_class_2 = train_data.loc[train_data['categories'].isin([2])]\n",
    "train_data_class_3 = train_data.loc[train_data['categories'].isin([3])]\n",
    "train_data_class_4 = train_data.loc[train_data['categories'].isin([4])]\n",
    "train_data_class_5 = train_data.loc[train_data['categories'].isin([5])]\n",
    "train_data_class_0"
   ]
  },
  {
   "cell_type": "code",
   "execution_count": 13,
   "id": "b9f156ff",
   "metadata": {},
   "outputs": [],
   "source": [
    "def makeDictOfProb(data_class):\n",
    "    words_with_prob = {}\n",
    "    for index, row in data_class.iterrows():\n",
    "        for j in range(len(row['feature'])):\n",
    "            word = row['feature'][j]\n",
    "            if(word not in words_with_prob):\n",
    "                words_with_prob[word] = 1\n",
    "            else:\n",
    "                words_with_prob[word] = words_with_prob.get(word)+1\n",
    "    num_all_words_class = sum(words_with_prob.values())\n",
    "    for key in words_with_prob:\n",
    "        words_with_prob[key] = (words_with_prob.get(key))/num_all_words_class\n",
    "    return words_with_prob"
   ]
  },
  {
   "cell_type": "code",
   "execution_count": 14,
   "id": "eb130b1e",
   "metadata": {},
   "outputs": [],
   "source": [
    "train_data_class_0_words = makeDictOfProb(train_data_class_0)\n",
    "train_data_class_1_words = makeDictOfProb(train_data_class_1)\n",
    "train_data_class_2_words = makeDictOfProb(train_data_class_2)\n",
    "train_data_class_3_words = makeDictOfProb(train_data_class_3)\n",
    "train_data_class_4_words = makeDictOfProb(train_data_class_4)\n",
    "train_data_class_5_words = makeDictOfProb(train_data_class_5)\n",
    "train_data_class_all_words = [train_data_class_0_words, train_data_class_1_words,\n",
    "                              train_data_class_2_words, train_data_class_3_words,\n",
    "                              train_data_class_4_words, train_data_class_5_words]"
   ]
  },
  {
   "cell_type": "code",
   "execution_count": 15,
   "id": "3b200e76",
   "metadata": {},
   "outputs": [
    {
     "data": {
      "text/plain": [
       "263851"
      ]
     },
     "execution_count": 15,
     "metadata": {},
     "output_type": "execute_result"
    }
   ],
   "source": [
    "all_words_unique = {}\n",
    "for i in range(len(train_data['feature'])):\n",
    "    for j in range(len(train_data['feature'][i])):\n",
    "        word = train_data['feature'][i][j]\n",
    "        if(word not in all_words_unique):\n",
    "            all_words_unique[word] = 1\n",
    "        else:\n",
    "            all_words_unique[word] = 1 + all_words_unique.get(word)\n",
    "# for i in range(len(train_data_class_all_words)):\n",
    "#     for key in train_data_class_all_words[i]:\n",
    "#         word = key\n",
    "#         if(word not in all_words_unique):\n",
    "#             all_words_unique[word] = (train_data_class_all_words[i].get(word))*()\n",
    "#         else:\n",
    "#             all_words_unique[word] = all_words_unique.get(word) + train_data_class_all_words[i].get(word)   \n",
    "num_all_words = sum(all_words_unique.values())\n",
    "num_all_words"
   ]
  },
  {
   "cell_type": "code",
   "execution_count": 16,
   "id": "d95abbc3",
   "metadata": {},
   "outputs": [],
   "source": [
    "test_data_categories = test_data['categories'].tolist()\n",
    "test_data_feature = test_data['feature'].tolist()"
   ]
  },
  {
   "cell_type": "markdown",
   "id": "47985783",
   "metadata": {},
   "source": [
    "### Two Classifiers with accuracy of 2.2% and 75.11%"
   ]
  },
  {
   "cell_type": "code",
   "execution_count": 17,
   "id": "5fdbdd82",
   "metadata": {},
   "outputs": [
    {
     "name": "stdout",
     "output_type": "stream",
     "text": [
      "['جامعه\\u200cشناسی', 'کلیات اسلام', 'داستان کودک و نوجوانان', 'داستان کوتاه', 'مدیریت و کسب و کار', 'رمان']\n"
     ]
    }
   ],
   "source": [
    "categories_list = []\n",
    "for cat in categories:\n",
    "    categories_list.append(cat)\n",
    "print(categories_list)"
   ]
  },
  {
   "cell_type": "code",
   "execution_count": 34,
   "id": "0ebe70fe",
   "metadata": {},
   "outputs": [],
   "source": [
    "def calculate_precision_recall_F1(test_data_categories, predicted_categories, classNum):\n",
    "    precision = 0\n",
    "    recall = 0\n",
    "    F1 = 0\n",
    "    \n",
    "    correct_detected_class = 0\n",
    "    for i in range(len(predicted_categories)):\n",
    "        if(test_data_categories[i] == predicted_categories[i]):\n",
    "            if(predicted_categories[i] == classNum):\n",
    "                correct_detected_class += 1\n",
    "                \n",
    "    all_detected_class = 0\n",
    "    for i in range(len(predicted_categories)):\n",
    "        if(predicted_categories[i] == classNum):\n",
    "            all_detected_class += 1\n",
    "            \n",
    "    total_class = 0\n",
    "    for i in range(len(test_data_categories)):\n",
    "        if(test_data_categories[i] == classNum):\n",
    "            total_class += 1\n",
    "\n",
    "    precision = correct_detected_class/all_detected_class\n",
    "    recall = correct_detected_class/total_class\n",
    "    F1 = 2*((precision*recall)/(precision+recall))\n",
    "    \n",
    "    return precision, recall, F1"
   ]
  },
  {
   "cell_type": "code",
   "execution_count": 35,
   "id": "5a324f43",
   "metadata": {},
   "outputs": [],
   "source": [
    "def classChanceEstimator_1(test_data_feature, train_data_featureAndProb):\n",
    "    prob = 0\n",
    "    prob = prob + math.log(1/6) #p(c)\n",
    "    probOfWordsForClass = []\n",
    "    timesWordNotExistInTrainData = 0\n",
    "    minVal = math.log(0.00000001)\n",
    "    for i in range(len(test_data_feature)):\n",
    "        word = test_data_feature[i]\n",
    "        if(word in train_data_featureAndProb):\n",
    "            probOfWordsForClass.append(math.log(train_data_featureAndProb.get(word)))\n",
    "        else:\n",
    "            timesWordNotExistInTrainData += 1\n",
    "    prob = prob + sum(probOfWordsForClass)\n",
    "    return prob"
   ]
  },
  {
   "cell_type": "code",
   "execution_count": 42,
   "id": "e443cfac",
   "metadata": {},
   "outputs": [
    {
     "name": "stdout",
     "output_type": "stream",
     "text": [
      "accuracy:  0.022222222222222223\n"
     ]
    }
   ],
   "source": [
    "predicted_categories = []\n",
    "for i in range(len(test_data_feature)):\n",
    "    category_chance = []\n",
    "    for j in range(len(train_data_class_all_words)):\n",
    "        category_chance_class_j = classChanceEstimator_1(test_data_feature[i],train_data_class_all_words[j])         \n",
    "        category_chance.append(category_chance_class_j)\n",
    "    predicted_categories.append(category_chance.index(max(category_chance)))\n",
    "similar = 0\n",
    "for i in range(len(test_data_categories)):\n",
    "    if(test_data_categories[i] == predicted_categories[i]):\n",
    "        similar +=1\n",
    "accuracy = similar/(len(test_data_categories))\n",
    "print(\"accuracy: \",accuracy)"
   ]
  },
  {
   "cell_type": "code",
   "execution_count": 43,
   "id": "dadeab4a",
   "metadata": {},
   "outputs": [
    {
     "name": "stdout",
     "output_type": "stream",
     "text": [
      "accuracy:  0.022222222222222223\n"
     ]
    }
   ],
   "source": [
    "# print('For Class 0:',arabic_reshaper.reshape(categories_list[0]))\n",
    "# precision_class_0, recall_class_0, F1_class_0 = calculate_precision_recall_F1(test_data_categories, predicted_categories, 0)                \n",
    "# print(\"precision_class_0: \",precision_class_0,\"\\nrecall_class_0: \",recall_class_0,\"\\nF1_class_0\",F1_class_0)   \n",
    "# print('\\n')\n",
    "# print('For Class 1:',arabic_reshaper.reshape(categories_list[1]))\n",
    "# precision_class_1, recall_class_1, F1_class_1 = calculate_precision_recall_F1(test_data_categories, predicted_categories, 1)                \n",
    "# print(\"precision_class_1: \",precision_class_1,\"\\nrecall_class_1: \",recall_class_1,\"\\nF1_class_1\",F1_class_1)   \n",
    "# print('\\n')\n",
    "# print('For Class 2:',arabic_reshaper.reshape(categories_list[2]))\n",
    "# precision_class_2, recall_class_2, F1_class_2 = calculate_precision_recall_F1(test_data_categories, predicted_categories, 2)                \n",
    "# print(\"precision_class_2: \",precision_class_2,\"\\nrecall_class_2: \",recall_class_2,\"\\nF1_class_2\",F1_class_2)   \n",
    "# print('\\n')\n",
    "# print('For Class 3:',arabic_reshaper.reshape(categories_list[3]))\n",
    "# precision_class_3, recall_class_3, F1_class_3 = calculate_precision_recall_F1(test_data_categories, predicted_categories, 3)                \n",
    "# print(\"precision_class_3: \",precision_class_3,\"\\nrecall_class_3: \",recall_class_3,\"\\nF1_class_3\",F1_class_3)   \n",
    "# print('\\n')\n",
    "# print('For Class 4:',arabic_reshaper.reshape(categories_list[4]))\n",
    "# precision_class_4, recall_class_4, F1_class_4 = calculate_precision_recall_F1(test_data_categories, predicted_categories, 4)                \n",
    "# print(\"precision_class_4: \",precision_class_4,\"\\nrecall_class_4: \",recall_class_4,\"\\nF1_class_4\",F1_class_4)   \n",
    "# print('\\n')\n",
    "# print('For Class 5:',arabic_reshaper.reshape(categories_list[5]))\n",
    "# precision_class_5, recall_class_5, F1_class_5 = calculate_precision_recall_F1(test_data_categories, predicted_categories, 5)                \n",
    "# print(\"precision_class_5: \",precision_class_5,\"\\nrecall_class_5: \",recall_class_5,\"\\nF1_class_5\",F1_class_5)   \n",
    "# print('\\n')\n",
    "print(\"accuracy: \",accuracy)\n",
    "# macro_F1 = (F1_class_0 + F1_class_1 + F1_class_2 + F1_class_3 + F1_class_4 + F1_class_5)/5\n",
    "# print(\"macro_F1\",macro_F1)"
   ]
  },
  {
   "cell_type": "code",
   "execution_count": 21,
   "id": "4cde61c7",
   "metadata": {},
   "outputs": [],
   "source": [
    "def classChanceEstimator_2(test_data_feature, train_data_featureAndProb):\n",
    "    prob = 0\n",
    "    prob = prob + math.log(1/6) #p(c)\n",
    "    probOfWordsForClass = []\n",
    "    timesWordNotExistInTrainData = 0\n",
    "    minVal = math.log(0.00000001)\n",
    "    for i in range(len(test_data_feature)):\n",
    "        word = test_data_feature[i]\n",
    "        if(word in train_data_featureAndProb):\n",
    "            probOfWordsForClass.append(math.log(train_data_featureAndProb.get(word)))\n",
    "        else:\n",
    "            timesWordNotExistInTrainData += 1\n",
    "    for i in range(timesWordNotExistInTrainData):\n",
    "        if(len(probOfWordsForClass) == 0):\n",
    "            probOfWordsForClass.append(minVal)\n",
    "        else:\n",
    "            probOfWordsForClass.append(min(probOfWordsForClass))\n",
    "    prob = prob + sum(probOfWordsForClass)\n",
    "    return prob"
   ]
  },
  {
   "cell_type": "code",
   "execution_count": 22,
   "id": "524e5bf2",
   "metadata": {},
   "outputs": [
    {
     "name": "stdout",
     "output_type": "stream",
     "text": [
      "accuracy:  0.7511111111111111\n"
     ]
    }
   ],
   "source": [
    "predicted_categories = []\n",
    "for i in range(len(test_data_feature)):\n",
    "    category_chance = []\n",
    "    for j in range(len(train_data_class_all_words)):\n",
    "        category_chance_class_j = classChanceEstimator_2(test_data_feature[i],train_data_class_all_words[j])         \n",
    "        category_chance.append(category_chance_class_j)\n",
    "    predicted_categories.append(category_chance.index(max(category_chance)))\n",
    "similar = 0\n",
    "for i in range(len(test_data_categories)):\n",
    "    if(test_data_categories[i] == predicted_categories[i]):\n",
    "        similar +=1\n",
    "accuracy = similar/(len(test_data_categories))\n",
    "print(\"accuracy: \",accuracy)"
   ]
  },
  {
   "cell_type": "code",
   "execution_count": 23,
   "id": "3fc2f0eb",
   "metadata": {},
   "outputs": [
    {
     "name": "stdout",
     "output_type": "stream",
     "text": [
      "For Class 0: ﺟﺎﻣﻌﻪ‌ﺷﻨﺎﺳﯽ\n",
      "precision_class_0:  0.7948717948717948 \n",
      "recall_class_0:  0.8266666666666667 \n",
      "F1_class_0 0.8104575163398693\n",
      "\n",
      "\n",
      "For Class 1: ﮐﻠﯿﺎﺕ ﺍﺳﻼﻡ\n",
      "precision_class_1:  0.8840579710144928 \n",
      "recall_class_1:  0.8133333333333334 \n",
      "F1_class_1 0.8472222222222223\n",
      "\n",
      "\n",
      "For Class 2: ﺩﺍﺳﺘﺎﻥ ﮐﻮﺩﮎ ﻭ ﻧﻮﺟﻮﺍﻧﺎﻥ\n",
      "precision_class_2:  0.5483870967741935 \n",
      "recall_class_2:  0.9066666666666666 \n",
      "F1_class_2 0.6834170854271355\n",
      "\n",
      "\n",
      "For Class 3: ﺩﺍﺳﺘﺎﻥ ﮐﻮﺗﺎﻩ\n",
      "precision_class_3:  0.711864406779661 \n",
      "recall_class_3:  0.56 \n",
      "F1_class_3 0.6268656716417912\n",
      "\n",
      "\n",
      "For Class 4: ﻣﺪﯾﺮﯾﺖ ﻭ ﮐﺴﺐ ﻭ ﮐﺎﺭ\n",
      "precision_class_4:  0.8860759493670886 \n",
      "recall_class_4:  0.9333333333333333 \n",
      "F1_class_4 0.9090909090909091\n",
      "\n",
      "\n",
      "For Class 5: ﺭﻣﺎﻥ\n",
      "precision_class_5:  0.8536585365853658 \n",
      "recall_class_5:  0.4666666666666667 \n",
      "F1_class_5 0.603448275862069\n",
      "\n",
      "\n"
     ]
    }
   ],
   "source": [
    "print('For Class 0:',arabic_reshaper.reshape(categories_list[0]))\n",
    "precision_class_0, recall_class_0, F1_class_0 = calculate_precision_recall_F1(test_data_categories, predicted_categories, 0)                \n",
    "print(\"precision_class_0: \",precision_class_0,\"\\nrecall_class_0: \",recall_class_0,\"\\nF1_class_0\",F1_class_0)   \n",
    "print('\\n')\n",
    "print('For Class 1:',arabic_reshaper.reshape(categories_list[1]))\n",
    "precision_class_1, recall_class_1, F1_class_1 = calculate_precision_recall_F1(test_data_categories, predicted_categories, 1)                \n",
    "print(\"precision_class_1: \",precision_class_1,\"\\nrecall_class_1: \",recall_class_1,\"\\nF1_class_1\",F1_class_1)   \n",
    "print('\\n')\n",
    "print('For Class 2:',arabic_reshaper.reshape(categories_list[2]))\n",
    "precision_class_2, recall_class_2, F1_class_2 = calculate_precision_recall_F1(test_data_categories, predicted_categories, 2)                \n",
    "print(\"precision_class_2: \",precision_class_2,\"\\nrecall_class_2: \",recall_class_2,\"\\nF1_class_2\",F1_class_2)   \n",
    "print('\\n')\n",
    "print('For Class 3:',arabic_reshaper.reshape(categories_list[3]))\n",
    "precision_class_3, recall_class_3, F1_class_3 = calculate_precision_recall_F1(test_data_categories, predicted_categories, 3)                \n",
    "print(\"precision_class_3: \",precision_class_3,\"\\nrecall_class_3: \",recall_class_3,\"\\nF1_class_3\",F1_class_3)   \n",
    "print('\\n')\n",
    "print('For Class 4:',arabic_reshaper.reshape(categories_list[4]))\n",
    "precision_class_4, recall_class_4, F1_class_4 = calculate_precision_recall_F1(test_data_categories, predicted_categories, 4)                \n",
    "print(\"precision_class_4: \",precision_class_4,\"\\nrecall_class_4: \",recall_class_4,\"\\nF1_class_4\",F1_class_4)   \n",
    "print('\\n')\n",
    "print('For Class 5:',arabic_reshaper.reshape(categories_list[5]))\n",
    "precision_class_5, recall_class_5, F1_class_5 = calculate_precision_recall_F1(test_data_categories, predicted_categories, 5)                \n",
    "print(\"precision_class_5: \",precision_class_5,\"\\nrecall_class_5: \",recall_class_5,\"\\nF1_class_5\",F1_class_5)   \n",
    "print('\\n')"
   ]
  },
  {
   "cell_type": "markdown",
   "id": "50744954",
   "metadata": {},
   "source": [
    "## Unigram, bigram, and n-gram"
   ]
  },
  {
   "cell_type": "markdown",
   "id": "28383a77",
   "metadata": {},
   "source": [
    "### Question 3 Answered:\n",
    "In previous section, we used unigrams, it means that we only cared about words indevedually. In this part we are going to discuss about how bigram can provide us more details.\n",
    "So in practic bigram is the approach towrds storing 2 words that are followed by each other as one item.\n",
    "- For example:\n",
    "    - \"سعید یزدانخواه شیر گاو خورد\"\n",
    "    - \"سعید یزدانخواه توسط شیر زیبایی دریده شد\"\n",
    "- In both sentences we have the word \"شیر\" but the first one refers to \"milk\" and the second one refers to \"lion\" so we know for a fact that unigram is not a very wise method to use so we will use n-grams(bigram is a special type of n-gram where n equals to 2). If we select bigram we might not get a very good result  for the second sentence so we shall try to use n-grams."
   ]
  },
  {
   "cell_type": "markdown",
   "id": "93758750",
   "metadata": {},
   "source": [
    "## Additive Smoothing: 82.44% Accuracy"
   ]
  },
  {
   "cell_type": "markdown",
   "id": "1eb4cef2",
   "metadata": {},
   "source": [
    "### Question 4 Answered:\n",
    "In our model we are calculating the sum of Logarithm of probabilities(for multiplying probabilities will be a very small number) so  if a word did not exist in our data set it will get probability of log(0) which is negative infinite and that class's probability to be the one, would be almost zero "
   ]
  },
  {
   "cell_type": "markdown",
   "id": "843ed11d",
   "metadata": {},
   "source": [
    "### Question 5 Answered:\n",
    "If a word did not exist in our data set it will get probability of log(0) which is negative infinite and that class's probability to be the one, would be almost zero.\n",
    "A solution would be Laplace smoothing , which is a technique for smoothing categorical data. A small-sample correction, or pseudo-count, will be incorporated in every probability estimate. Consequently, no probability will be zero. this is a way of regularizing Naive Bayes, and when the pseudo-count is zero, it is called Laplace smoothing. While in the general case it is often called Lidstone smoothing.\n",
    "The approach is like below:\n",
    "\n",
    "![title](img/AdditiveSmoothing.png) \n",
    "\n",
    "where the pseudocount α > 0 is the smoothing parameter (α = 0 corresponds to no smoothing). Additive smoothing is a type of shrinkage estimator, as the resulting estimate will be between the empirical estimate xi / N, and the uniform probability 1/d. Using Laplace's rule of succession, some authors have argued that α should be 1 (in which case the term add-one smoothing is also used), though in practice a smaller value is typically chosen.\n",
    "\n",
    "[Resource](https://medium.com/syncedreview/applying-multinomial-naive-bayes-to-nlp-problems-a-practical-explanation-4f5271768ebf#:~:text=this%20is%20a%20way%20of,it%20is%20called%20Laplace%20smoothing.&text=Additive%20smoothing%20is%20a%20type,the%20uniform%20probability%201%2Fd.)"
   ]
  },
  {
   "cell_type": "code",
   "execution_count": 51,
   "id": "61142045",
   "metadata": {},
   "outputs": [],
   "source": [
    "def classChanceEstimator_3(test_data_feature, train_data_featureAndProb, num_all_words):\n",
    "    prob = 0\n",
    "    prob = prob + math.log(1/6) #p(c)\n",
    "    probOfWordsForClass = []\n",
    "    timesWordNotExistInTrainData = 0\n",
    "    alpha = 1\n",
    "    for i in range(len(test_data_feature)):\n",
    "        word = test_data_feature[i]\n",
    "        if(word in train_data_featureAndProb):\n",
    "            probOfWordsForClass.append(math.log(train_data_featureAndProb.get(word)))\n",
    "        else:\n",
    "            timesWordNotExistInTrainData += 1\n",
    "    for i in range(timesWordNotExistInTrainData):\n",
    "        probOfWordsForClass.append(math.log((0+alpha)/(num_all_words)))\n",
    "    prob = prob + sum(probOfWordsForClass)\n",
    "    return prob"
   ]
  },
  {
   "cell_type": "code",
   "execution_count": 52,
   "id": "f41659ad",
   "metadata": {},
   "outputs": [
    {
     "name": "stdout",
     "output_type": "stream",
     "text": [
      "accuracy:  0.8244444444444444\n"
     ]
    }
   ],
   "source": [
    "predicted_categories = []\n",
    "for i in range(len(test_data_feature)):\n",
    "    category_chance = []\n",
    "    for j in range(len(train_data_class_all_words)):\n",
    "        category_chance_class_j = classChanceEstimator_3(test_data_feature[i],train_data_class_all_words[j], num_all_words)                      \n",
    "        category_chance.append(category_chance_class_j)\n",
    "    predicted_categories.append(category_chance.index(max(category_chance)))\n",
    "similar = 0\n",
    "for i in range(len(test_data_categories)):\n",
    "    if(test_data_categories[i] == predicted_categories[i]):\n",
    "        similar +=1\n",
    "accuracy = similar/(len(test_data_categories))\n",
    "print(\"accuracy: \",accuracy)"
   ]
  },
  {
   "cell_type": "code",
   "execution_count": 45,
   "id": "8cd127f2",
   "metadata": {},
   "outputs": [
    {
     "name": "stdout",
     "output_type": "stream",
     "text": [
      "For Class 0: ﺟﺎﻣﻌﻪ‌ﺷﻨﺎﺳﯽ\n",
      "precision_class_0:  0.8048780487804879 \n",
      "recall_class_0:  0.88 \n",
      "F1_class_0 0.8407643312101911\n",
      "\n",
      "\n",
      "For Class 1: ﮐﻠﯿﺎﺕ ﺍﺳﻼﻡ\n",
      "precision_class_1:  0.9264705882352942 \n",
      "recall_class_1:  0.84 \n",
      "F1_class_1 0.881118881118881\n",
      "\n",
      "\n",
      "For Class 2: ﺩﺍﺳﺘﺎﻥ ﮐﻮﺩﮎ ﻭ ﻧﻮﺟﻮﺍﻧﺎﻥ\n",
      "precision_class_2:  0.8714285714285714 \n",
      "recall_class_2:  0.8133333333333334 \n",
      "F1_class_2 0.8413793103448276\n",
      "\n",
      "\n",
      "For Class 3: ﺩﺍﺳﺘﺎﻥ ﮐﻮﺗﺎﻩ\n",
      "precision_class_3:  0.7027027027027027 \n",
      "recall_class_3:  0.6933333333333334 \n",
      "F1_class_3 0.6979865771812082\n",
      "\n",
      "\n",
      "For Class 4: ﻣﺪﯾﺮﯾﺖ ﻭ ﮐﺴﺐ ﻭ ﮐﺎﺭ\n",
      "precision_class_4:  0.9090909090909091 \n",
      "recall_class_4:  0.9333333333333333 \n",
      "F1_class_4 0.9210526315789475\n",
      "\n",
      "\n",
      "For Class 5: ﺭﻣﺎﻥ\n",
      "precision_class_5:  0.7468354430379747 \n",
      "recall_class_5:  0.7866666666666666 \n",
      "F1_class_5 0.7662337662337663\n",
      "\n",
      "\n",
      "accuracy:  0.8244444444444444\n",
      "macro_F1 0.9897070995335643\n"
     ]
    }
   ],
   "source": [
    "print('For Class 0:',arabic_reshaper.reshape(categories_list[0]))\n",
    "precision_class_0, recall_class_0, F1_class_0 = calculate_precision_recall_F1(test_data_categories, predicted_categories, 0)                \n",
    "print(\"precision_class_0: \",precision_class_0,\"\\nrecall_class_0: \",recall_class_0,\"\\nF1_class_0\",F1_class_0)   \n",
    "print('\\n')\n",
    "print('For Class 1:',arabic_reshaper.reshape(categories_list[1]))\n",
    "precision_class_1, recall_class_1, F1_class_1 = calculate_precision_recall_F1(test_data_categories, predicted_categories, 1)                \n",
    "print(\"precision_class_1: \",precision_class_1,\"\\nrecall_class_1: \",recall_class_1,\"\\nF1_class_1\",F1_class_1)   \n",
    "print('\\n')\n",
    "print('For Class 2:',arabic_reshaper.reshape(categories_list[2]))\n",
    "precision_class_2, recall_class_2, F1_class_2 = calculate_precision_recall_F1(test_data_categories, predicted_categories, 2)                \n",
    "print(\"precision_class_2: \",precision_class_2,\"\\nrecall_class_2: \",recall_class_2,\"\\nF1_class_2\",F1_class_2)   \n",
    "print('\\n')\n",
    "print('For Class 3:',arabic_reshaper.reshape(categories_list[3]))\n",
    "precision_class_3, recall_class_3, F1_class_3 = calculate_precision_recall_F1(test_data_categories, predicted_categories, 3)                \n",
    "print(\"precision_class_3: \",precision_class_3,\"\\nrecall_class_3: \",recall_class_3,\"\\nF1_class_3\",F1_class_3)   \n",
    "print('\\n')\n",
    "print('For Class 4:',arabic_reshaper.reshape(categories_list[4]))\n",
    "precision_class_4, recall_class_4, F1_class_4 = calculate_precision_recall_F1(test_data_categories, predicted_categories, 4)                \n",
    "print(\"precision_class_4: \",precision_class_4,\"\\nrecall_class_4: \",recall_class_4,\"\\nF1_class_4\",F1_class_4)   \n",
    "print('\\n')\n",
    "print('For Class 5:',arabic_reshaper.reshape(categories_list[5]))\n",
    "precision_class_5, recall_class_5, F1_class_5 = calculate_precision_recall_F1(test_data_categories, predicted_categories, 5)                \n",
    "print(\"precision_class_5: \",precision_class_5,\"\\nrecall_class_5: \",recall_class_5,\"\\nF1_class_5\",F1_class_5)   \n",
    "print('\\n')\n",
    "print(\"accuracy: \",accuracy)\n",
    "macro_F1 = (F1_class_0 + F1_class_1 + F1_class_2 + F1_class_3 + F1_class_4 + F1_class_5)/5\n",
    "print(\"macro_F1\",macro_F1)"
   ]
  },
  {
   "cell_type": "markdown",
   "id": "c48baae5",
   "metadata": {},
   "source": [
    "### Question 6 Answered: Bar-Plots\n",
    "In this section, I am going to plot the diagrams of words with most frequencies in each class.\n"
   ]
  },
  {
   "cell_type": "code",
   "execution_count": 27,
   "id": "a5aa0fee",
   "metadata": {},
   "outputs": [],
   "source": [
    "def makeDictOfRepeat(data_class):\n",
    "    words_with_repeat = {}\n",
    "    for index, row in data_class.iterrows():\n",
    "        for j in range(len(row['feature'])):\n",
    "            word = row['feature'][j]\n",
    "            if(word not in words_with_repeat):\n",
    "                words_with_repeat[word] = 1\n",
    "            else:\n",
    "                words_with_repeat[word] = words_with_repeat.get(word)+1\n",
    "    return words_with_repeat"
   ]
  },
  {
   "cell_type": "code",
   "execution_count": 28,
   "id": "5cd93976",
   "metadata": {},
   "outputs": [],
   "source": [
    "train_data_class_0_words_repeat = makeDictOfRepeat(train_data_class_0)\n",
    "train_data_class_1_words_repeat = makeDictOfRepeat(train_data_class_1)\n",
    "train_data_class_2_words_repeat = makeDictOfRepeat(train_data_class_2)\n",
    "train_data_class_3_words_repeat = makeDictOfRepeat(train_data_class_3)\n",
    "train_data_class_4_words_repeat = makeDictOfRepeat(train_data_class_4)\n",
    "train_data_class_5_words_repeat = makeDictOfRepeat(train_data_class_5)\n",
    "train_data_class_all_words_repeat = [train_data_class_0_words_repeat, train_data_class_1_words_repeat,\n",
    "                              train_data_class_2_words_repeat, train_data_class_3_words_repeat,\n",
    "                              train_data_class_4_words_repeat, train_data_class_5_words_repeat]"
   ]
  },
  {
   "cell_type": "code",
   "execution_count": 29,
   "id": "dd3afa23",
   "metadata": {},
   "outputs": [],
   "source": [
    "def extractMostRepeatedWord(data_class):\n",
    "    words_most_repeated = []\n",
    "    words_repeats = []\n",
    "    data_class_5_most_repeated = dict(sorted(data_class.items(), key=operator.itemgetter(1), reverse=True)[:5])      \n",
    "    for key in data_class_5_most_repeated:\n",
    "        words_most_repeated.append(key)\n",
    "        words_repeats.append(data_class_5_most_repeated.get(key))\n",
    "    return words_most_repeated, words_repeats"
   ]
  },
  {
   "cell_type": "code",
   "execution_count": 30,
   "id": "0ff0757d",
   "metadata": {},
   "outputs": [],
   "source": [
    "class_0_words_most_repeated, class_0_words_repeats = extractMostRepeatedWord(train_data_class_0_words_repeat)\n",
    "class_1_words_most_repeated, class_1_words_repeats = extractMostRepeatedWord(train_data_class_1_words_repeat)\n",
    "class_2_words_most_repeated, class_2_words_repeats = extractMostRepeatedWord(train_data_class_2_words_repeat)\n",
    "class_3_words_most_repeated, class_3_words_repeats = extractMostRepeatedWord(train_data_class_3_words_repeat)\n",
    "class_4_words_most_repeated, class_4_words_repeats = extractMostRepeatedWord(train_data_class_4_words_repeat)\n",
    "class_5_words_most_repeated, class_5_words_repeats = extractMostRepeatedWord(train_data_class_5_words_repeat)"
   ]
  },
  {
   "cell_type": "code",
   "execution_count": 31,
   "id": "0e77f58e",
   "metadata": {},
   "outputs": [
    {
     "name": "stdout",
     "output_type": "stream",
     "text": [
      "Requirement already satisfied: arabic-reshaper in c:\\users\\mn\\anaconda3\\lib\\site-packages (2.1.3)\n",
      "Requirement already satisfied: setuptools in c:\\users\\mn\\anaconda3\\lib\\site-packages (from arabic-reshaper) (52.0.0.post20210125)\n",
      "Requirement already satisfied: future in c:\\users\\mn\\anaconda3\\lib\\site-packages (from arabic-reshaper) (0.18.2)\n",
      "Requirement already satisfied: python-bidi in c:\\users\\mn\\anaconda3\\lib\\site-packages (0.4.2)\n",
      "Requirement already satisfied: six in c:\\users\\mn\\anaconda3\\lib\\site-packages (from python-bidi) (1.15.0)\n"
     ]
    }
   ],
   "source": [
    "!pip install arabic-reshaper\n",
    "!pip install python-bidi"
   ]
  },
  {
   "cell_type": "code",
   "execution_count": 32,
   "id": "e647f57e",
   "metadata": {},
   "outputs": [
    {
     "name": "stdout",
     "output_type": "stream",
     "text": [
      "For Class 0: ﺟﺎﻣﻌﻪ‌ﺷﻨﺎﺳﯽ\n"
     ]
    },
    {
     "data": {
      "image/png": "[encoded data removed]",
      "text/plain": [
       "<Figure size 432x288 with 1 Axes>"
      ]
     },
     "metadata": {
      "needs_background": "light"
     },
     "output_type": "display_data"
    },
    {
     "name": "stdout",
     "output_type": "stream",
     "text": [
      "For Class 1: ﮐﻠﯿﺎﺕ ﺍﺳﻼﻡ\n"
     ]
    },
    {
     "data": {
      "image/png": "[encoded data removed]",
      "text/plain": [
       "<Figure size 432x288 with 1 Axes>"
      ]
     },
     "metadata": {
      "needs_background": "light"
     },
     "output_type": "display_data"
    },
    {
     "name": "stdout",
     "output_type": "stream",
     "text": [
      "For Class 2: ﺩﺍﺳﺘﺎﻥ ﮐﻮﺩﮎ ﻭ ﻧﻮﺟﻮﺍﻧﺎﻥ\n"
     ]
    },
    {
     "data": {
      "image/png": "[encoded data removed]",
      "text/plain": [
       "<Figure size 432x288 with 1 Axes>"
      ]
     },
     "metadata": {
      "needs_background": "light"
     },
     "output_type": "display_data"
    },
    {
     "name": "stdout",
     "output_type": "stream",
     "text": [
      "For Class 3: ﺩﺍﺳﺘﺎﻥ ﮐﻮﺗﺎﻩ\n"
     ]
    },
    {
     "data": {
      "image/png": "[encoded data removed]",
      "text/plain": [
       "<Figure size 432x288 with 1 Axes>"
      ]
     },
     "metadata": {
      "needs_background": "light"
     },
     "output_type": "display_data"
    },
    {
     "name": "stdout",
     "output_type": "stream",
     "text": [
      "For Class 4: ﻣﺪﯾﺮﯾﺖ ﻭ ﮐﺴﺐ ﻭ ﮐﺎﺭ\n"
     ]
    },
    {
     "data": {
      "image/png": "[encoded data removed]",
      "text/plain": [
       "<Figure size 432x288 with 1 Axes>"
      ]
     },
     "metadata": {
      "needs_background": "light"
     },
     "output_type": "display_data"
    },
    {
     "name": "stdout",
     "output_type": "stream",
     "text": [
      "For Class 5: ﺭﻣﺎﻥ\n"
     ]
    },
    {
     "data": {
      "image/png": "[encoded data removed]",
      "text/plain": [
       "<Figure size 432x288 with 1 Axes>"
      ]
     },
     "metadata": {
      "needs_background": "light"
     },
     "output_type": "display_data"
    }
   ],
   "source": [
    "class_0_words_most_repeated_new = [] \n",
    "for i in range(len(class_0_words_most_repeated)):\n",
    "    word = class_0_words_most_repeated[i]\n",
    "    class_0_words_most_repeated[i] = arabic_reshaper.reshape(word)\n",
    "fig = plt.figure()\n",
    "ax = fig.add_axes([0,0,1,1])\n",
    "ax.bar([arabic_reshaper.reshape(class_0_words_most_repeated[0][::-1]),arabic_reshaper.reshape(class_0_words_most_repeated[1][::-1]),\n",
    "       arabic_reshaper.reshape(class_0_words_most_repeated[2][::-1]), arabic_reshaper.reshape(class_0_words_most_repeated[3][::-1]),\n",
    "       arabic_reshaper.reshape(class_0_words_most_repeated[4][::-1])], class_0_words_repeats)\n",
    "print('For Class 0:',arabic_reshaper.reshape(categories_list[0]))\n",
    "plt.show()\n",
    "\n",
    "class_1_words_most_repeated_new = [] \n",
    "for i in range(len(class_1_words_most_repeated)):\n",
    "    word = class_1_words_most_repeated[i]\n",
    "    class_1_words_most_repeated[i] = arabic_reshaper.reshape(word)\n",
    "fig = plt.figure()\n",
    "ax = fig.add_axes([0,0,1,1])\n",
    "ax.bar([arabic_reshaper.reshape(class_1_words_most_repeated[0][::-1]),arabic_reshaper.reshape(class_1_words_most_repeated[1][::-1]),\n",
    "       arabic_reshaper.reshape(class_1_words_most_repeated[2][::-1]), arabic_reshaper.reshape(class_1_words_most_repeated[3][::-1]),\n",
    "       arabic_reshaper.reshape(class_1_words_most_repeated[4][::-1])], class_1_words_repeats)\n",
    "print('For Class 1:',arabic_reshaper.reshape(categories_list[1]))\n",
    "plt.show()\n",
    "\n",
    "class_2_words_most_repeated_new = [] \n",
    "for i in range(len(class_2_words_most_repeated)):\n",
    "    word = class_2_words_most_repeated[i]\n",
    "    class_2_words_most_repeated[i] = arabic_reshaper.reshape(word)\n",
    "fig = plt.figure()\n",
    "ax = fig.add_axes([0,0,1,1])\n",
    "ax.bar([arabic_reshaper.reshape(class_2_words_most_repeated[0][::-1]),arabic_reshaper.reshape(class_2_words_most_repeated[1][::-1]),\n",
    "       arabic_reshaper.reshape(class_2_words_most_repeated[2][::-1]), arabic_reshaper.reshape(class_2_words_most_repeated[3][::-1]),\n",
    "       arabic_reshaper.reshape(class_2_words_most_repeated[4][::-1])], class_2_words_repeats)\n",
    "print('For Class 2:',arabic_reshaper.reshape(categories_list[2]))\n",
    "plt.show()\n",
    "\n",
    "class_3_words_most_repeated_new = [] \n",
    "for i in range(len(class_3_words_most_repeated)):\n",
    "    word = class_3_words_most_repeated[i]\n",
    "    class_3_words_most_repeated[i] = arabic_reshaper.reshape(word)\n",
    "fig = plt.figure()\n",
    "ax = fig.add_axes([0,0,1,1])\n",
    "ax.bar([arabic_reshaper.reshape(class_3_words_most_repeated[0][::-1]),arabic_reshaper.reshape(class_3_words_most_repeated[1][::-1]),\n",
    "       arabic_reshaper.reshape(class_3_words_most_repeated[2][::-1]), arabic_reshaper.reshape(class_3_words_most_repeated[3][::-1]),\n",
    "       arabic_reshaper.reshape(class_3_words_most_repeated[4][::-1])], class_3_words_repeats)\n",
    "print('For Class 3:',arabic_reshaper.reshape(categories_list[3]))\n",
    "plt.show()\n",
    "\n",
    "class_4_words_most_repeated_new = [] \n",
    "for i in range(len(class_4_words_most_repeated)):\n",
    "    word = class_4_words_most_repeated[i]\n",
    "    class_4_words_most_repeated[i] = arabic_reshaper.reshape(word)\n",
    "fig = plt.figure()\n",
    "ax = fig.add_axes([0,0,1,1])\n",
    "ax.bar([arabic_reshaper.reshape(class_4_words_most_repeated[0][::-1]),arabic_reshaper.reshape(class_4_words_most_repeated[1][::-1]),\n",
    "       arabic_reshaper.reshape(class_4_words_most_repeated[2][::-1]), arabic_reshaper.reshape(class_4_words_most_repeated[3][::-1]),\n",
    "       arabic_reshaper.reshape(class_4_words_most_repeated[4][::-1])], class_4_words_repeats)\n",
    "print('For Class 4:',arabic_reshaper.reshape(categories_list[4]))\n",
    "plt.show()\n",
    "\n",
    "class_5_words_most_repeated_new = [] \n",
    "for i in range(len(class_5_words_most_repeated)):\n",
    "    word = class_5_words_most_repeated[i]\n",
    "    class_5_words_most_repeated[i] = arabic_reshaper.reshape(word)\n",
    "fig = plt.figure()\n",
    "ax = fig.add_axes([0,0,1,1])\n",
    "ax.bar([arabic_reshaper.reshape(class_5_words_most_repeated[0][::-1]),arabic_reshaper.reshape(class_5_words_most_repeated[1][::-1]),\n",
    "       arabic_reshaper.reshape(class_5_words_most_repeated[2][::-1]), arabic_reshaper.reshape(class_5_words_most_repeated[3][::-1]),\n",
    "       arabic_reshaper.reshape(class_5_words_most_repeated[4][::-1])], class_5_words_repeats)\n",
    "print('For Class 5:',arabic_reshaper.reshape(categories_list[5]))\n",
    "plt.show()"
   ]
  },
  {
   "cell_type": "markdown",
   "id": "5be29467",
   "metadata": {},
   "source": [
    "# Phase 3: Ecaluation\n",
    "In this part I am going to evaluate all the models to compare them and see which method is the best one"
   ]
  },
  {
   "cell_type": "markdown",
   "id": "d22717c6",
   "metadata": {},
   "source": [
    "I am going to use these parametes shown below:\n",
    "\n",
    "![title](img/Evaluate.png) \n",
    "\n"
   ]
  },
  {
   "cell_type": "code",
   "execution_count": 46,
   "id": "2e8d4c45",
   "metadata": {},
   "outputs": [
    {
     "name": "stdout",
     "output_type": "stream",
     "text": [
      "For Class 0: ﺟﺎﻣﻌﻪ‌ﺷﻨﺎﺳﯽ\n",
      "precision_class_0:  0.8048780487804879 \n",
      "recall_class_0:  0.88 \n",
      "F1_class_0 0.8407643312101911\n",
      "\n",
      "\n",
      "For Class 1: ﮐﻠﯿﺎﺕ ﺍﺳﻼﻡ\n",
      "precision_class_1:  0.9264705882352942 \n",
      "recall_class_1:  0.84 \n",
      "F1_class_1 0.881118881118881\n",
      "\n",
      "\n",
      "For Class 2: ﺩﺍﺳﺘﺎﻥ ﮐﻮﺩﮎ ﻭ ﻧﻮﺟﻮﺍﻧﺎﻥ\n",
      "precision_class_2:  0.8714285714285714 \n",
      "recall_class_2:  0.8133333333333334 \n",
      "F1_class_2 0.8413793103448276\n",
      "\n",
      "\n",
      "For Class 3: ﺩﺍﺳﺘﺎﻥ ﮐﻮﺗﺎﻩ\n",
      "precision_class_3:  0.7027027027027027 \n",
      "recall_class_3:  0.6933333333333334 \n",
      "F1_class_3 0.6979865771812082\n",
      "\n",
      "\n",
      "For Class 4: ﻣﺪﯾﺮﯾﺖ ﻭ ﮐﺴﺐ ﻭ ﮐﺎﺭ\n",
      "precision_class_4:  0.9090909090909091 \n",
      "recall_class_4:  0.9333333333333333 \n",
      "F1_class_4 0.9210526315789475\n",
      "\n",
      "\n",
      "For Class 5: ﺭﻣﺎﻥ\n",
      "precision_class_5:  0.7468354430379747 \n",
      "recall_class_5:  0.7866666666666666 \n",
      "F1_class_5 0.7662337662337663\n",
      "\n",
      "\n",
      "accuracy:  0.8244444444444444\n",
      "macro_F1 0.9897070995335643\n"
     ]
    }
   ],
   "source": [
    "print('For Class 0:',arabic_reshaper.reshape(categories_list[0]))\n",
    "precision_class_0, recall_class_0, F1_class_0 = calculate_precision_recall_F1(test_data_categories, predicted_categories, 0)                \n",
    "print(\"precision_class_0: \",precision_class_0,\"\\nrecall_class_0: \",recall_class_0,\"\\nF1_class_0\",F1_class_0)   \n",
    "print('\\n')\n",
    "print('For Class 1:',arabic_reshaper.reshape(categories_list[1]))\n",
    "precision_class_1, recall_class_1, F1_class_1 = calculate_precision_recall_F1(test_data_categories, predicted_categories, 1)                \n",
    "print(\"precision_class_1: \",precision_class_1,\"\\nrecall_class_1: \",recall_class_1,\"\\nF1_class_1\",F1_class_1)   \n",
    "print('\\n')\n",
    "print('For Class 2:',arabic_reshaper.reshape(categories_list[2]))\n",
    "precision_class_2, recall_class_2, F1_class_2 = calculate_precision_recall_F1(test_data_categories, predicted_categories, 2)                \n",
    "print(\"precision_class_2: \",precision_class_2,\"\\nrecall_class_2: \",recall_class_2,\"\\nF1_class_2\",F1_class_2)   \n",
    "print('\\n')\n",
    "print('For Class 3:',arabic_reshaper.reshape(categories_list[3]))\n",
    "precision_class_3, recall_class_3, F1_class_3 = calculate_precision_recall_F1(test_data_categories, predicted_categories, 3)                \n",
    "print(\"precision_class_3: \",precision_class_3,\"\\nrecall_class_3: \",recall_class_3,\"\\nF1_class_3\",F1_class_3)   \n",
    "print('\\n')\n",
    "print('For Class 4:',arabic_reshaper.reshape(categories_list[4]))\n",
    "precision_class_4, recall_class_4, F1_class_4 = calculate_precision_recall_F1(test_data_categories, predicted_categories, 4)                \n",
    "print(\"precision_class_4: \",precision_class_4,\"\\nrecall_class_4: \",recall_class_4,\"\\nF1_class_4\",F1_class_4)   \n",
    "print('\\n')\n",
    "print('For Class 5:',arabic_reshaper.reshape(categories_list[5]))\n",
    "precision_class_5, recall_class_5, F1_class_5 = calculate_precision_recall_F1(test_data_categories, predicted_categories, 5)                \n",
    "print(\"precision_class_5: \",precision_class_5,\"\\nrecall_class_5: \",recall_class_5,\"\\nF1_class_5\",F1_class_5)   \n",
    "print('\\n')\n",
    "print(\"accuracy: \",accuracy)\n",
    "macro_F1 = (F1_class_0 + F1_class_1 + F1_class_2 + F1_class_3 + F1_class_4 + F1_class_5)/5\n",
    "print(\"macro_F1\",macro_F1)"
   ]
  },
  {
   "cell_type": "markdown",
   "id": "d76cd786",
   "metadata": {},
   "source": [
    "### Question 7 Answered:\n",
    "Short story Long, In practice, we know that Precision and recall alone are not good measure for us. \n",
    "- Precision\n",
    "    - Precision is the number of True Positives divided by the number of True Positives and False Positives. Put another way, it is the number of positive predictions divided by the total number of positive class values predicted. It is also called the Positive Predictive Value (PPV).\n",
    "\n",
    "    - Precision can be thought of as a measure of a classifiers exactness. A low precision can also indicate a large number of False Positives.\n",
    "    - The precision suggests CART is a better model and that the All Recurrence is more useful than the All No Recurrence model even though it has a lower accuracy. The difference in precision between the All Recurrence model and the CART can be explained by the large number of False Positives predicted by the All Recurrence model.\n",
    "\n",
    "- Recall\n",
    "    - Recall is the number of True Positives divided by the number of True Positives and the number of False Negatives. Put another way it is the number of positive predictions divided by the number of positive class values in the test data. It is also called Sensitivity or the True Positive Rate.\n",
    "\n",
    "    - Recall can be thought of as a measure of a classifiers completeness. A low recall indicates many False Negatives.\n",
    "    - As you would expect, the All Recurrence model has a perfect recall because it predicts “recurrence” for all instances. The recall for CART is lower than that of the All Recurrence model. This can be explained by the large number (75) of False Negatives predicted by the CART model.\n",
    "\n",
    "    \n",
    "[Resource](https://machinelearningmastery.com/classification-accuracy-is-not-enough-more-performance-measures-you-can-use/)\n",
    "\n",
    "ANSWER:\n",
    "- We can see that for class 0, precision is 0.80 and recall is 0.88 which means that our precision for class 0 is less than its recall. it shows us that as both devide same thing by different things, We should be paying attention to what it has devided by:\n",
    "    - precision by All detected class -> All detected of class i (including falses)\n",
    "    - recall by total class -> All data of class i in test data set\n",
    "So we can see that because \"All detected class\" is more than \"total class\", it became less.\n",
    "\n",
    "- On the other hand, We can see that for class 2, precision is 0.87 and recall is 0.81 which means that our precision for class 0 is larger than its recall. it shows us that as both devide same thing by different things, We should be paying attention to what it has devided by:\n",
    "    - precision by All detected class -> All detected of class i (including falses)\n",
    "    - recall by total class -> All data of class i in test data set\n",
    "So we can see that because \"All detected class\" is less than \"total class\", it became more.\n",
    "\n",
    "- After all We need to consider all data of all classes not just one class, to see how well our model can behave but precision and recall will give us useful information too."
   ]
  },
  {
   "cell_type": "markdown",
   "id": "7c7ad108",
   "metadata": {},
   "source": [
    "### Question  8: F1\n",
    "\n",
    "- The F1 Score is the 2*((precision*recall)/(precision+recall)). It is also called the F Score or the F Measure. Put another way, the F1 score conveys the balance between the precision and the recall.\n",
    "\n",
    "![title](img/F1.png) \n",
    "- If we were looking to select a model based on a ** balance between precision and recall **, the F1 measure suggests that All Recurrence model is the one to beat and that CART model is not yet sufficiently competitive.\n",
    "\n",
    "[Resource](https://machinelearningmastery.com/classification-accuracy-is-not-enough-more-performance-measures-you-can-use/)\n",
    "\n",
    "The F1 score is the harmonic mean of the precision and recall. The more generic f_betta score applies additional weights, valuing one of precision or recall more than the other.\n",
    "\n",
    "The highest possible value of an F-score is 1.0, indicating perfect precision and recall, and the lowest possible value is 0, if either the precision or the recall is zero. The F1 score is also known as the Sørensen–Dice coefficient or Dice similarity coefficient (DSC)\n",
    "\n",
    "[Resource](https://en.wikipedia.org/wiki/F-score)\n",
    "\n",
    "- It is very important to pay attention that if recall and precision are zero then it would be 0/0 which would be a problem in our computation\n"
   ]
  },
  {
   "cell_type": "markdown",
   "id": "3086e55e",
   "metadata": {},
   "source": [
    "### Question 9 answered:\n",
    "First lets look at below table:\n",
    "\n",
    "![title](img/MultiClassTable.png) \n",
    "- As you can see in the above table, we have broadly two types of metrics- micro-average & macro-average, we will discuss the pros and cons of each.\n",
    "- Most commonly used metrics for multi-classes are F1 score, Average Accuracy, Log-loss. There is yet no well-developed ROC-AUC score for multi-class.\n",
    "\n",
    "- We saw F1 score, here is another one called log-loss:\n",
    "![title](img/LogLoss.png) \n",
    "\n",
    "[Resource](https://medium.com/usf-msds/choosing-the-right-metric-for-evaluating-machine-learning-models-part-2-86d5649a5428#:~:text=Most%20commonly%20used%20metrics%20for,AUC%20score%20for%20multi%2Dclass.)\n",
    "\n",
    "- Macro F1: \n",
    "    - an arithmetic mean of the per-class F1-scores. This is called the macro-averaged F1-score, or the macro-F1 for short, and is computed as a simple arithmetic mean of our per-class F1-scores\n",
    "\n",
    "- Micro F1: \n",
    "    - -> Some how it is the accuracy\n",
    "    - Micro-averaged F1-score, or the micro-F1. To calculate the micro-F1, we first compute micro-averaged precision and micro-averaged recall over all the samples , and then combine the two. How do we “micro-average”? We simply look at all the samples together.\n",
    "\n",
    "- Weighted F1:\n",
    "    -  in weighted-average F1-score, or weighted-F1, we weight the F1-score of each class by the number of samples from that class.\n",
    "    \n",
    "[Resource](https://en.wikipedia.org/wiki/F-score)\n"
   ]
  },
  {
   "cell_type": "markdown",
   "id": "6b2dc535",
   "metadata": {},
   "source": [
    "### Question 10 answered:\n",
    "- Without Additive Smoothing:  \n",
    "    - F1 is NAN because it is devided by 0\n",
    "    - Accuracy : 0.02222\n",
    "![title](img/WhitoutAS.png) \n",
    "- With Additive Smoothing:  \n",
    "    - F1: 0.989\n",
    "    - Accuracy: 0.824\n",
    "![title](img/WithAS.png) "
   ]
  },
  {
   "cell_type": "markdown",
   "id": "c6fc3907",
   "metadata": {},
   "source": [
    "### Question 11 answered:\n",
    "- Without Addative smoothing because there were some words in the test set that did not exist in the train set log(0) would become -inf so we would have this problem that would cause us wrong labeling.\n",
    "- With Addative smoothing this problem was solved because for those words that did not exist in the train set, we used alpha =1 to be devided by the whole words that we had\n",
    "-Now we know for a fact that Additive Smoothing really helped us with predicting because we are not going to lose probability if the word did not exist in the train set."
   ]
  },
  {
   "cell_type": "markdown",
   "id": "827fd5ef",
   "metadata": {},
   "source": [
    "### Question 12 answered:\n"
   ]
  },
  {
   "cell_type": "code",
   "execution_count": 54,
   "id": "9c42e614",
   "metadata": {},
   "outputs": [
    {
     "name": "stdout",
     "output_type": "stream",
     "text": [
      "predicted_label:  [5, 0, 4, 5, 2]\n",
      "actual_label   :  [3, 1, 0, 3, 1]\n",
      "num_iteration  :  [0, 5, 8, 12, 20]\n"
     ]
    }
   ],
   "source": [
    "predicted_label = []\n",
    "actual_label = []\n",
    "num_iteration = []\n",
    "count = 0\n",
    "for i in range(len(predicted_categories)):\n",
    "    if(predicted_categories[i] != test_data_categories[i]):\n",
    "        predicted_label.append(predicted_categories[i])\n",
    "        actual_label.append(test_data_categories[i])\n",
    "        num_iteration.append(i)\n",
    "        count +=1\n",
    "        if(count ==5):\n",
    "            break\n",
    "print(\"predicted_label: \",predicted_label)\n",
    "print(\"actual_label   : \",actual_label)\n",
    "print(\"num_iteration  : \",num_iteration)\n"
   ]
  },
  {
   "cell_type": "code",
   "execution_count": 67,
   "id": "3bd1820c",
   "metadata": {},
   "outputs": [
    {
     "data": {
      "text/plain": [
       "'جامعه\\u200cشناسی'"
      ]
     },
     "execution_count": 67,
     "metadata": {},
     "output_type": "execute_result"
    }
   ],
   "source": [
    "categories_reverse = {}\n",
    "categories_reverse = {y:x for x,y in categories.items()}\n",
    "categories_reverse.get(0)"
   ]
  },
  {
   "cell_type": "code",
   "execution_count": 74,
   "id": "05a46278",
   "metadata": {},
   "outputs": [
    {
     "name": "stdout",
     "output_type": "stream",
     "text": [
      "Num. : 1\n",
      " کآشوب کآشوب بیست روایت روضه زندگی همت نفیسه مرشدزاده جمع‌آوری کآشوب روایت واقعی مستند نسل امروز واقعه سال ۶۱ هجری شهادت مظلومانه امام حسین علیه‌السلام نویسندگان شغل گرایش مختلف قرار لحن توصیف زیسته خود مجالس گذشته امروز گزارش دل دست داد#ده این‌جا آن‌جا شیفتگی متن زد#زن مجموعه ذره مداوم اثر حوزه عاشورا محرم تولید محض تولد هزارانی پیش دوره ساحت واقعه تمام‌نشدنی پیشکش شده‌است روایت هفتم فراز تپه علی غبیشاوی شانزده هفده بود#باش ماه تابستان تعطیلات سال نو قم کاشت#کار داشت#دار رفت#رو خوزستان روستا پدر حاج‌بابا محرم افتاد#افت تعطیلات محرم قم بود#باش روز داشت#دار اتصال سیم باند حیاط کرد#کن وصله زد#زن داشت#دار میخ درآمده‌ی پایه عقب منبر چکش سر جا برمی‌گرداندم بالا نردبان داشت#دار تار عنکبوت گوشه حسینیه گرفت#گیر کرد#کن چطور ماه قم روبه‌رو شوم نامانوس عزادار عرب عادت داشت#دار دلهره داشت#دار دلهره دهه محرم آن‌قدر روز عاشورا برگ قم زندگی طولانی‌مدت خوزستان کمتر حضور عرب‌زبان شهر منحصر صحبت عرب خانواده گفت‌وگوی‌های روزمره دایره لغات عربی‌ام محدود ساختار زبان پیچیده نیمچه فاخر سخنران حسینیه حاج‌بابا سر آورد#آور معنا کلمات ترجیع‌بند ابوذیه‌های آخر مصیبت‌خوانی‌اش سخت همه حاضر تو حسینیه دست پهنا صورت سر گریبان اشک ریخت#ریز ناله توریستی شهر غریب وسط نشست#نشین زل زد#زن آدم دلیل تأثر درست دقیق فهمید#فهم\n",
      "unfortunately labeled:  رمان\n",
      "Actual label:  داستان کوتاه\n",
      "\n",
      "\n",
      "\n",
      "Num. : 2\n",
      " داستان برق‌آسا داستان برق‌آسا نام مجموعه داستان گردآوری جیمز توماس دنیس توماس تام هازوکا ترجمه پژمان طهرانیان ۱۳۵۷ داستان برق‌آسا flash fiction اصطلاح گردآورندگان مجموعه نام داستان کوتاه وضع کرد#کن داستان حجم ۲۵۰ کلمه ۷۵۰ کلمه متغیر داستان مجموعه دوره زمان طولانی روش بی‌نظیر انتخاب شد#شو مرحله صد داستان چاپ‌شده نشریات کتاب مختلف اختیار دانشجو رشته ادب سرتاسر آمریکا گذاشته آن خواسته نمره‌دادن داستان ارزیاب اعلام داستان چاپ‌شده سنجش بالا نمره آورد#آور ترجمه داستان برق‌آسا انتخاب درخشان نمونه flash fiction ترویج داستان درمیان داستان‌خوان‌های حرفه‌ای ایران خواندن نمونه نازل به‌ظاهر دست داستان چندان گرفت#گیر قدم برداشته‌شود داستان چاک رزنتال داستان‌نویس مقاله‌نویس استاد زبان ادبیات انگلیسی خواند#خوان ماه بچه دنیا فرانک گورکی هیچ‌وقت ماه دید#بین این‌که شب زمستان ماه دسامبر بوران درست جشن آبستن‌شدن مریم مقدس سالگرد پرل هاربر پدر مادر برد#بر شب گرتا گر گورکی برد#بر هلال ماه آسمان نشان فرانک گورکی چراغ‌خوشگل‌های تو خیابان پدر گر گورکی ماه فرانک گورکی تصور ماه داشت#دار آرزو کاشکی گرد شب این‌که می‌فرستادندش تو تخت‌خواب رفت#رو پنجره اتاق صبح پرنده آن‌جا منتظر ماند#مان خواب بیدار رفت#رو ماه تماشا کم‌کم فهمید#فهم ماه بزرگ واقع روز گذشت#گذر انگار واقعا گرد فرانک بچه دانست#دان بچه وقت آرزو رسید#رس شنید#شنو افسانه تو آدم آرزو رسید#رس\n",
      "unfortunately labeled:  جامعه‌شناسی\n",
      "Actual label:  کلیات اسلام\n",
      "\n",
      "\n",
      "\n",
      "Num. : 3\n",
      " بحث مرجعیت روحانیتمجموعه مقالات بحث مرجعیت روحانیت مقالات بزرگ علما دین سید محمدحسین طباطبایی سید ابوالفضل موسوی مجتهد زنجان مرتضی مطهر مهدی بازرگان سید محمد حسینی بهشتی سید محمود طالقان سید مرتضی جزایر موضوع مقالات حاصر چنان‌که نام مجموعه مسئله روحانیت مرجعیت دین مبین اسلام کتاب هفت نویسنده مرکب علما مذهب نویسندگان غیرمذهبی انتشار کتاب تنبیه الامة تنزیه الملة اساس اصول مشروطیت تألیف علامه نائین درباره حکومت مشروطه مؤثر پرمایه نوشته مذهب فارس نوشت#نویس خلاصه مقالات کتاب وسیله میس لمیتون عنوان تجدید ساختمان موقعیت مرجع تقلید نهاد مذهب انگلیسی ترجمه شماره ۲۰ Studia Islamica سال ۱۹۶۴ صص ۱۳۵۱۱۵ منتشر انجمن کتاب عنوان کتاب برگزیده سال اعلام\n",
      "unfortunately labeled:  مدیریت و کسب و کار\n",
      "Actual label:  جامعه‌شناسی\n",
      "\n",
      "\n",
      "\n",
      "Num. : 4\n",
      " قلعه حیوانات قلعه حیوانات جورج اورول حیوانات اهل اقدام آرمان‌گرایانه انقلاب صاحب مزرعه جونز مزرعه فرار خود اداره مزرعه به‌دست برابری رفاه جامعه برقرار ساخت#ساز رهبر جنبش خوک به‌دست مدت گروه رهبر خوک نام ناپلئون بهره‌کشی حیوانات مزرعه پرداخت#پرداز هرگونه مخالفت سرکوب اورول عنوان سوسیال دموکرات جنگ داخل اسپانیا سیاست حکومت سوسیالیستی شوروی آشنا شده‌بود پاکسازی‌های خشونت‌آمیز دوران استالین خشمگین نگارش رمان استبداد طبقه حاکم شوروی به‌سختی انتقاد معتقد نظام شوروی دیکتاتوری برپایه کیش شخصیت بنا گشته‌است رمان انقلاب حیوانات مزرعه نماد انقلاب کارگر سرنوشت ضد نظام سرمایه‌دار رمان یک‌شنبه صبح حیوانات گرفتن دستور شد#شو ناپلئون اعلام سیاست جدید اتخاذ تاریخ مزرعه حیوانات مزارع مجاور دادوستد تجارت دست‌آوردن مواد آسیاب باد مقدم فعلا مقدار یونجه مقدار گندم فروخت#فروش پول بیش‌تری طریق فروش تخم‌مرغ ولینگدن بازار تامین ناپلئون اضافه مرغ فداکار کمک شرکت ساختمان آسیاب باد ست استقبال حیوانات شکل مبهم احساس ناراحت ارتباط نداشتن بشر معامله تجاری‌نکردن پول کار نبردن مگر این جزو تصمیمات اخراج جونز همه حیوانات تصمیمات خاطر لااقل تصور آن خاطر\n",
      "unfortunately labeled:  رمان\n",
      "Actual label:  داستان کوتاه\n",
      "\n",
      "\n",
      "\n",
      "Num. : 5\n",
      " قصه ۱ قصه مجموعه کتاب ۵ جلد محمد میرکیانی ۱۳۳۷ مجموعه داستان ایران گذر زمان ضرب‌المثل گردآورده محمدحسین صلوات ۱۳۴۰ تصویرگر کتاب مجموعه ۱۱۰ قصه نوجوان خاستگاه داستان زندگی بزرگ دین نوشته آثار ادب داستان عامیانه شفاهی برآمده\n",
      "unfortunately labeled:  داستان کودک و نوجوانان\n",
      "Actual label:  کلیات اسلام\n",
      "\n",
      "\n",
      "\n"
     ]
    }
   ],
   "source": [
    "for i in range(len(num_iteration)):\n",
    "    sentence = \"\"\n",
    "    for j in range(len(test_data['feature'][i])):\n",
    "        sentence = sentence + ' '+ test_data['feature'][i][j]\n",
    "    print(\"Num. :\",i+1)\n",
    "    print(sentence)\n",
    "    print(\"unfortunately labeled: \", categories_reverse.get(predicted_label[i]))\n",
    "    print(\"Actual label: \", categories_reverse.get(actual_label[i]))\n",
    "    print('\\n\\n')"
   ]
  },
  {
   "cell_type": "markdown",
   "id": "a34f74bb",
   "metadata": {},
   "source": [
    "We can totally see that there are 5 incorrect labels. \n",
    "- First of all, naive bayse is really weak. In this question we used bag of words, which does not care about the position of the words! this is a big mistake in real world! of course it matters where a word takes position\n",
    "- Second of all, We used uni-gram it is really weak and does not care about sequece of words which is wrong in real life.\n",
    "    - For example:\n",
    "        - \"سعید یزدانخواه شیر گاو خورد\"\n",
    "        - \"سعید یزدانخواه توسط شیر زیبایی دریده شد\"\n",
    "        \n",
    "There are so many things that we did not pay attention to but after all, we are using naive bayse and we got a good accuracy with relaxing our problem"
   ]
  }
 ],
 "metadata": {
  "kernelspec": {
   "display_name": "Python 3",
   "language": "python",
   "name": "python3"
  },
  "language_info": {
   "codemirror_mode": {
    "name": "ipython",
    "version": 3
   },
   "file_extension": ".py",
   "mimetype": "text/x-python",
   "name": "python",
   "nbconvert_exporter": "python",
   "pygments_lexer": "ipython3",
   "version": "3.8.8"
  }
 },
 "nbformat": 4,
 "nbformat_minor": 5
}
