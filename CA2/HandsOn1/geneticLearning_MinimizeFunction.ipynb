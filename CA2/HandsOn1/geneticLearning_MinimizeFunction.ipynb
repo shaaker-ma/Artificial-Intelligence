{
 "cells": [
  {
   "cell_type": "code",
   "execution_count": null,
   "metadata": {},
   "outputs": [],
   "source": [
    "import random\n",
    "def mathFunc(x,y,z):\n",
    "    return (x+3)**2 + (y-2)**2 + z**2  \n",
    "\n",
    "def fitness(x,y,z):\n",
    "    valueOfMathFunc = mathFunc(x,y,z)\n",
    "    if(valueOfMathFunc == 0):\n",
    "        return 99999\n",
    "    else:\n",
    "        return (1/valueOfMathFunc)\n",
    "    \n",
    "class Chromosome:\n",
    "    def __init__(self, x, y, z):\n",
    "        self.position = (x, y, z)\n",
    "        self.rate = fitness(x, y, z)\n",
    "    def getPosition(self):\n",
    "        return self.position\n",
    "    def getRate(self):\n",
    "        return self.rate\n",
    "    \n",
    "def geneticAlgorithm():\n",
    "    solution = []\n",
    "    for i in range(1000): #1000 chromosome\n",
    "        newChromosome = Chromosome( random.uniform(0,1000),\n",
    "                                    random.uniform(0,1000),\n",
    "                                    random.uniform(0,1000))\n",
    "        solution.append([newChromosome.getRate(),newChromosome])\n",
    "        \n",
    "    while(True):\n",
    "        rankedPopulation = []\n",
    "        for s in solution:\n",
    "            rankedPopulation.append(s)\n",
    "        sorted(rankedPopulation, key=lambda x: x[0])\n",
    "        rankedPopulation.reverse()\n",
    "        \n",
    "        if(rankedPopulation[0][0]>10):\n",
    "            break\n",
    "        \n",
    "        bestPopulation = rankedPopulation[:100]\n",
    "        bestGenes = [[0 for x in range(0)] for y in range(3)] \n",
    "        for ind in bestPopulation:\n",
    "            bestGenes[0].append((ind[1].getPosition())[0])\n",
    "            bestGenes[1].append((ind[1].getPosition())[1])\n",
    "            bestGenes[2].append((ind[1].getPosition())[2])\n",
    "#         for i in range(len(bestPopulation)):\n",
    "        newGeneration = []\n",
    "        for i in range(1000):\n",
    "            x = random.choice(bestGenes[0]) * random.uniform(0.99,1.01)\n",
    "            y = random.choice(bestGenes[1]) * random.uniform(0.99,1.01)\n",
    "            z = random.choice(bestGenes[2]) * random.uniform(0.99,1.01)\n",
    "            newChromosome = Chromosome(x, y, z)\n",
    "            newGeneration.append([newChromosome.getRate(),newChromosome])\n",
    "        solution = newGeneration\n",
    "        print(rankedPopulation[0][0])\n",
    "    print('done')\n",
    "geneticAlgorithm()"
   ]
  },
  {
   "cell_type": "code",
   "execution_count": 4,
   "metadata": {},
   "outputs": [
    {
     "data": {
      "text/plain": [
       "[[], [], []]"
      ]
     },
     "execution_count": 4,
     "metadata": {},
     "output_type": "execute_result"
    }
   ],
   "source": [
    "Matrix = [[0 for x in range(0)] for y in range(3)] \n",
    "# Matrix[0].append(2)\n",
    "Matrix\n",
    "\n",
    "# # newChromosome = Chromosome( random.uniform(0,1000),\n",
    "# #                                     random.uniform(0,1000),\n",
    "# #                                     random.uniform(0,1000))\n",
    "# # print(newChromosome.getPosition()[0])\n",
    "\n",
    "# # a = [0,1,2,3,4,5,6,7,8,9,10,11]\n",
    "# # b = a[:5]\n",
    "# # c = a[5:]\n",
    "# # print(b)\n",
    "# # print(c)\n",
    "\n",
    "# letters = string.ascii_lowercase"
   ]
  }
 ],
 "metadata": {
  "kernelspec": {
   "display_name": "Python 3",
   "language": "python",
   "name": "python3"
  },
  "language_info": {
   "codemirror_mode": {
    "name": "ipython",
    "version": 3
   },
   "file_extension": ".py",
   "mimetype": "text/x-python",
   "name": "python",
   "nbconvert_exporter": "python",
   "pygments_lexer": "ipython3",
   "version": "3.7.0"
  }
 },
 "nbformat": 4,
 "nbformat_minor": 2
}
