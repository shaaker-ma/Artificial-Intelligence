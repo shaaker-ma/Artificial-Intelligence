{
 "cells": [
  {
   "cell_type": "markdown",
   "metadata": {
    "id": "YB7OIwsS_jqV"
   },
   "source": [
    "<h2 style = \"font-size: 25px; text-align: center;\">In the name of God</h2>\n",
    "<h1 style = \"font-size: 30px; text-align: center;\">CA 5 - phase 1</h1>\n",
    "<h2 style = \"font-size: 25px; text-align: center; color: #666\">Name: Sina Garazhian</h2>\n",
    "<h2 style = \"font-size: 25px; text-align: center; color: #666\">Student Id: 810098011</h2>\n",
    "<h4 style=\"text-align: center\">Spring 1400</h4>"
   ]
  },
  {
   "cell_type": "markdown",
   "metadata": {
    "id": "Q6C43UUrDTDz"
   },
   "source": [
    "# Problem description : \n",
    "\n",
    " We are going to detecte images categories.\n",
    "\n",
    "# goal:\n",
    "\n",
    "Implementing Neural Networks in order to predict images categories.\n",
    "\n",
    "# modeling parameters:\n",
    "\n",
    "weights\n",
    "\n",
    "number of layers\n",
    "\n",
    "size of each layer\n",
    "\n",
    "type of activation or loss function\n",
    "\n",
    "\n",
    "# Datas:\n",
    "\"train_image.csv\" is the data for training.\n",
    "\n",
    "\"test_image.csv\" is the data for testing.\n",
    "\n",
    "\"train_labels.csv\" is the labels of the train data.\n",
    "\n",
    "\"test_labels.csv\" is the labels of the test data.\n",
    "\n",
    "# implementation way:\n",
    "1. Read data.\n",
    "2. Preprocess.\n",
    "3. Design network.\n",
    "4. Train model.\n",
    "5. Evaluation.\n",
    "\n",
    "#Part 1 :\n",
    "\n",
    "**Question: \n",
    "each pixcel is between 0 and 255\n",
    "\n",
    "\n",
    "\n",
    "\n",
    "**Question: \n",
    "reason of input normalization:\n",
    "\n",
    "This is intended for faster approaching to global minima at error surface\n",
    "\n",
    "Reason 1: If a Feature in the Dataset is big in scale compared to others then this big scaled feature becomes dominating and as a result of that, Predictions of the Neural Network will not be Accurate.\n",
    "\n",
    "Reason 2: Front Propagation of Neural Networks involves the Dot Product of Weights with Input Features. So, if the Values are very high (for Image here), Calculation of Output takes a lot of Computation Time as well as Memory. Same is the case during Back Propagation. Consequently, Model Converges slowly, if the Inputs are not Normalized.\n",
    "\n",
    "Reason 3: large input cause large output and it result in saturation for some activation functions such as sigmoid\n",
    "\n",
    "Reason 4:take a look at the softmax function.how hard it will be to calculate output if our numbers are around 1000 instead of 1.\n",
    "\n",
    "\n",
    "**Question: if we set initial weights equal to zero...\n",
    "\n",
    "Reason 1: neural networks tend to get stuck in local minima, so it's a good idea to give them many different starting values. You can't do that if they all start at zero.\n",
    "\n",
    "Reason 2: if the neurons start with the same weights, then all the neurons will follow the same gradient, and will always end up doing the same thing as one another.\n",
    "\n",
    "Reason 3: If we use tanh or ReLu activation (anything where g(0)=0) then all the outputs will be 0, and the gradients for the weights will always be 0. Hence we will not have any learning at all. \n",
    "\n",
    "**Question: why tanh and sigmoid are not well, here?\n",
    "\n",
    "They have zero derivative for numbers with large amount.\n",
    "\n",
    "**Question: what is Leaky relu benefit in compared to relu?\n",
    "\n",
    "It does not have zero derivative for negetive amounts, so better updating is occured.\n",
    "\n",
    "**Question: why do we use batch?\n",
    "becuase if we use just one data for updating, we will not find a good direction to move in parameter space, and if we use all of our data, it has a lot of computation.\n",
    "\n",
    "by increasing the batch size we got better update, but we have more calculations.\n",
    "\n",
    "**Question: epochs?\n",
    "\n",
    "each epoch make some updates(equal to number of batchs). and we need several updates due to the fact that we need several steps through optimal point.\n",
    "\n",
    "overfitting: The Train Loss decreases, but the validation loss increases."
   ]
  },
  {
   "cell_type": "code",
   "execution_count": null,
   "metadata": {
    "colab": {
     "base_uri": "https://localhost:8080/"
    },
    "id": "uvV96SrtSlC8",
    "outputId": "ec980806-29b9-434e-926a-3f9665a343c6"
   },
   "outputs": [
    {
     "name": "stdout",
     "output_type": "stream",
     "text": [
      "NVIDIA-SMI has failed because it couldn't communicate with the NVIDIA driver. Make sure that the latest NVIDIA driver is installed and running.\n",
      "\n"
     ]
    }
   ],
   "source": [
    "!nvidia-smi"
   ]
  },
  {
   "cell_type": "code",
   "execution_count": 1,
   "metadata": {
    "id": "cFWnU3Y3S3C3"
   },
   "outputs": [],
   "source": [
    "import pandas as pd\n",
    "import numpy as np\n",
    "import random\n",
    "from sklearn.utils import shuffle\n",
    "from matplotlib import pyplot as plt "
   ]
  },
  {
   "cell_type": "code",
   "execution_count": 2,
   "metadata": {
    "colab": {
     "base_uri": "https://localhost:8080/"
    },
    "id": "Kqgk87NUVlPp",
    "outputId": "f96c9433-717e-43cf-89d4-9a79de36e2ad"
   },
   "outputs": [
    {
     "name": "stdout",
     "output_type": "stream",
     "text": [
      "Mounted at /content/drive\n"
     ]
    }
   ],
   "source": [
    "from google.colab import drive\n",
    "drive.mount('/content/drive')"
   ]
  },
  {
   "cell_type": "code",
   "execution_count": 3,
   "metadata": {
    "id": "tRahDc1ZUrQD"
   },
   "outputs": [],
   "source": [
    "df_train = pd.read_csv('/content/drive/MyDrive/train_images.csv')\n",
    "df_test = pd.read_csv('/content/drive/MyDrive/test_images.csv')\n",
    "df_train_labels = pd.read_csv('/content/drive/MyDrive/train_labels.csv')\n",
    "df_test_labels = pd.read_csv('/content/drive/MyDrive/test_labels.csv')"
   ]
  },
  {
   "cell_type": "code",
   "execution_count": null,
   "metadata": {
    "colab": {
     "base_uri": "https://localhost:8080/",
     "height": 206
    },
    "id": "EX38smWAXjyK",
    "outputId": "75f13663-5070-4816-8337-a6f7e4d40e3b"
   },
   "outputs": [
    {
     "data": {
      "text/html": [
       "<div>\n",
       "<style scoped>\n",
       "    .dataframe tbody tr th:only-of-type {\n",
       "        vertical-align: middle;\n",
       "    }\n",
       "\n",
       "    .dataframe tbody tr th {\n",
       "        vertical-align: top;\n",
       "    }\n",
       "\n",
       "    .dataframe thead th {\n",
       "        text-align: right;\n",
       "    }\n",
       "</style>\n",
       "<table border=\"1\" class=\"dataframe\">\n",
       "  <thead>\n",
       "    <tr style=\"text-align: right;\">\n",
       "      <th></th>\n",
       "      <th>Unnamed: 0</th>\n",
       "      <th>0</th>\n",
       "    </tr>\n",
       "  </thead>\n",
       "  <tbody>\n",
       "    <tr>\n",
       "      <th>0</th>\n",
       "      <td>0</td>\n",
       "      <td>19</td>\n",
       "    </tr>\n",
       "    <tr>\n",
       "      <th>1</th>\n",
       "      <td>1</td>\n",
       "      <td>7</td>\n",
       "    </tr>\n",
       "    <tr>\n",
       "      <th>2</th>\n",
       "      <td>2</td>\n",
       "      <td>4</td>\n",
       "    </tr>\n",
       "    <tr>\n",
       "      <th>3</th>\n",
       "      <td>3</td>\n",
       "      <td>15</td>\n",
       "    </tr>\n",
       "    <tr>\n",
       "      <th>4</th>\n",
       "      <td>4</td>\n",
       "      <td>12</td>\n",
       "    </tr>\n",
       "  </tbody>\n",
       "</table>\n",
       "</div>"
      ],
      "text/plain": [
       "   Unnamed: 0   0\n",
       "0           0  19\n",
       "1           1   7\n",
       "2           2   4\n",
       "3           3  15\n",
       "4           4  12"
      ]
     },
     "execution_count": 71,
     "metadata": {
      "tags": []
     },
     "output_type": "execute_result"
    }
   ],
   "source": [
    "df_train_labels.head()"
   ]
  },
  {
   "cell_type": "code",
   "execution_count": 4,
   "metadata": {
    "colab": {
     "base_uri": "https://localhost:8080/",
     "height": 283
    },
    "id": "XvVBKnhFXmuK",
    "outputId": "ed9ac0a0-dacb-4df1-d82b-62298f003cb9"
   },
   "outputs": [
    {
     "name": "stdout",
     "output_type": "stream",
     "text": [
      "(28, 28)\n"
     ]
    },
    {
     "data": {
      "image/png": "[encoded data removed]",
      "text/plain": [
       "<Figure size 432x288 with 1 Axes>"
      ]
     },
     "metadata": {
      "needs_background": "light",
      "tags": []
     },
     "output_type": "display_data"
    }
   ],
   "source": [
    "random_index = random.randint(0, len(df_train)-1)\n",
    "image_rand = df_train.iloc[[random_index]]\n",
    "image_rand = image_rand.iloc[: , 1:]\n",
    "\n",
    "image_rand = image_rand.values.reshape(28,-1)\n",
    "plt.imshow(image_rand)\n",
    "print(image_rand.shape)"
   ]
  },
  {
   "cell_type": "code",
   "execution_count": 5,
   "metadata": {
    "colab": {
     "base_uri": "https://localhost:8080/"
    },
    "id": "FntwVrwUXo0p",
    "outputId": "6db21529-8ce5-4844-aaec-3e62e1195281"
   },
   "outputs": [
    {
     "name": "stdout",
     "output_type": "stream",
     "text": [
      "max and min: 255 0\n"
     ]
    }
   ],
   "source": [
    "print(\"max and min:\",df_train['0'].max(),df_train['0'].min())"
   ]
  },
  {
   "cell_type": "code",
   "execution_count": 6,
   "metadata": {
    "colab": {
     "base_uri": "https://localhost:8080/",
     "height": 1000
    },
    "id": "V32Y41OJXtNU",
    "outputId": "e9d12069-ba5c-41f8-e7aa-c2d35675cc52"
   },
   "outputs": [
    {
     "name": "stdout",
     "output_type": "stream",
     "text": [
      "class number: 19\n",
      "class number: 7\n",
      "class number: 4\n",
      "class number: 15\n",
      "class number: 12\n",
      "class number: 13\n",
      "class number: 10\n",
      "class number: 0\n",
      "class number: 2\n",
      "class number: 6\n",
      "class number: 1\n",
      "class number: 8\n",
      "class number: 18\n",
      "class number: 3\n",
      "class number: 14\n",
      "class number: 5\n",
      "class number: 16\n",
      "class number: 17\n",
      "class number: 9\n",
      "class number: 11\n"
     ]
    },
    {
     "data": {
      "image/png": "[encoded data removed]",
      "text/plain": [
       "<Figure size 432x288 with 1 Axes>"
      ]
     },
     "metadata": {
      "needs_background": "light",
      "tags": []
     },
     "output_type": "display_data"
    },
    {
     "data": {
      "image/png": "[encoded data removed]",
      "text/plain": [
       "<Figure size 432x288 with 1 Axes>"
      ]
     },
     "metadata": {
      "needs_background": "light",
      "tags": []
     },
     "output_type": "display_data"
    },
    {
     "data": {
      "image/png": "[encoded data removed]",
      "text/plain": [
       "<Figure size 432x288 with 1 Axes>"
      ]
     },
     "metadata": {
      "needs_background": "light",
      "tags": []
     },
     "output_type": "display_data"
    },
    {
     "data": {
      "image/png": "[encoded data removed]",
      "text/plain": [
       "<Figure size 432x288 with 1 Axes>"
      ]
     },
     "metadata": {
      "needs_background": "light",
      "tags": []
     },
     "output_type": "display_data"
    },
    {
     "data": {
      "image/png": "[encoded data removed]",
      "text/plain": [
       "<Figure size 432x288 with 1 Axes>"
      ]
     },
     "metadata": {
      "needs_background": "light",
      "tags": []
     },
     "output_type": "display_data"
    },
    {
     "data": {
      "image/png": "[encoded data removed]",
      "text/plain": [
       "<Figure size 432x288 with 1 Axes>"
      ]
     },
     "metadata": {
      "needs_background": "light",
      "tags": []
     },
     "output_type": "display_data"
    },
    {
     "data": {
      "image/png": "[encoded data removed]",
      "text/plain": [
       "<Figure size 432x288 with 1 Axes>"
      ]
     },
     "metadata": {
      "needs_background": "light",
      "tags": []
     },
     "output_type": "display_data"
    },
    {
     "data": {
      "image/png": "[encoded data removed]",
      "text/plain": [
       "<Figure size 432x288 with 1 Axes>"
      ]
     },
     "metadata": {
      "needs_background": "light",
      "tags": []
     },
     "output_type": "display_data"
    },
    {
     "data": {
      "image/png": "[encoded data removed]",
      "text/plain": [
       "<Figure size 432x288 with 1 Axes>"
      ]
     },
     "metadata": {
      "needs_background": "light",
      "tags": []
     },
     "output_type": "display_data"
    },
    {
     "data": {
      "image/png": "[encoded data removed]",
      "text/plain": [
       "<Figure size 432x288 with 1 Axes>"
      ]
     },
     "metadata": {
      "needs_background": "light",
      "tags": []
     },
     "output_type": "display_data"
    },
    {
     "data": {
      "image/png": "[encoded data removed]",
      "text/plain": [
       "<Figure size 432x288 with 1 Axes>"
      ]
     },
     "metadata": {
      "needs_background": "light",
      "tags": []
     },
     "output_type": "display_data"
    },
    {
     "data": {
      "image/png": "[encoded data removed]",
      "text/plain": [
       "<Figure size 432x288 with 1 Axes>"
      ]
     },
     "metadata": {
      "needs_background": "light",
      "tags": []
     },
     "output_type": "display_data"
    },
    {
     "data": {
      "image/png": "[encoded data removed]",
      "text/plain": [
       "<Figure size 432x288 with 1 Axes>"
      ]
     },
     "metadata": {
      "needs_background": "light",
      "tags": []
     },
     "output_type": "display_data"
    },
    {
     "data": {
      "image/png": "[encoded data removed]",
      "text/plain": [
       "<Figure size 432x288 with 1 Axes>"
      ]
     },
     "metadata": {
      "needs_background": "light",
      "tags": []
     },
     "output_type": "display_data"
    },
    {
     "data": {
      "image/png": "[encoded data removed]",
      "text/plain": [
       "<Figure size 432x288 with 1 Axes>"
      ]
     },
     "metadata": {
      "needs_background": "light",
      "tags": []
     },
     "output_type": "display_data"
    },
    {
     "data": {
      "image/png": "[encoded data removed]",
      "text/plain": [
       "<Figure size 432x288 with 1 Axes>"
      ]
     },
     "metadata": {
      "needs_background": "light",
      "tags": []
     },
     "output_type": "display_data"
    },
    {
     "data": {
      "image/png": "[encoded data removed]",
      "text/plain": [
       "<Figure size 432x288 with 1 Axes>"
      ]
     },
     "metadata": {
      "needs_background": "light",
      "tags": []
     },
     "output_type": "display_data"
    },
    {
     "data": {
      "image/png": "[encoded data removed]",
      "text/plain": [
       "<Figure size 432x288 with 1 Axes>"
      ]
     },
     "metadata": {
      "needs_background": "light",
      "tags": []
     },
     "output_type": "display_data"
    },
    {
     "data": {
      "image/png": "[encoded data removed]",
      "text/plain": [
       "<Figure size 432x288 with 1 Axes>"
      ]
     },
     "metadata": {
      "needs_background": "light",
      "tags": []
     },
     "output_type": "display_data"
    },
    {
     "data": {
      "image/png": "[encoded data removed]",
      "text/plain": [
       "<Figure size 432x288 with 1 Axes>"
      ]
     },
     "metadata": {
      "needs_background": "light",
      "tags": []
     },
     "output_type": "display_data"
    }
   ],
   "source": [
    "check_class = [0]*20\n",
    "cnt = 0\n",
    "while(sum(check_class)<20 and cnt < len(df_train)):\n",
    "    class_index = df_train_labels['0'][cnt]\n",
    "    #print(class_index)\n",
    "    if (check_class[class_index] == 0 ):\n",
    "        print(\"class number:\", class_index)\n",
    "        image = df_train.iloc[[cnt]]\n",
    "        image = image.iloc[: , 1:]\n",
    "        image = image.values.reshape(28,-1)\n",
    "        plt.figure()\n",
    "        plt.imshow(image)\n",
    "        check_class[class_index] = 1\n",
    "    cnt += 1\n",
    "\n",
    "        "
   ]
  },
  {
   "cell_type": "code",
   "execution_count": null,
   "metadata": {
    "colab": {
     "base_uri": "https://localhost:8080/",
     "height": 283
    },
    "id": "wPiqcvCiXtXN",
    "outputId": "61432b89-887b-4bf6-e4ba-21cb5ee33242"
   },
   "outputs": [
    {
     "name": "stdout",
     "output_type": "stream",
     "text": [
      "[3426, 3344, 3432, 440, 3418, 3358, 3354, 3412, 2681, 3357, 3398, 3444, 3363, 2417, 2209, 3356, 1405, 3409, 3389, 3388]\n"
     ]
    },
    {
     "data": {
      "image/png": "[encoded data removed]",
      "text/plain": [
       "<Figure size 432x288 with 1 Axes>"
      ]
     },
     "metadata": {
      "needs_background": "light",
      "tags": []
     },
     "output_type": "display_data"
    }
   ],
   "source": [
    "class_siezes_train = [0]*20\n",
    "cnt = 0\n",
    "while(cnt < len(df_train)):\n",
    "    class_index = df_train_labels['0'][cnt]\n",
    "    class_siezes_train[class_index] += 1\n",
    "    cnt += 1\n",
    "plt.bar(list(range(20)),class_siezes_train)\n",
    "print(class_siezes_train)"
   ]
  },
  {
   "cell_type": "code",
   "execution_count": null,
   "metadata": {
    "colab": {
     "base_uri": "https://localhost:8080/",
     "height": 283
    },
    "id": "nPjKT5h1X1U-",
    "outputId": "427e8528-ea91-43b5-8a66-73fe326f179b"
   },
   "outputs": [
    {
     "name": "stdout",
     "output_type": "stream",
     "text": [
      "[844, 862, 856, 107, 871, 855, 846, 852, 649, 856, 855, 837, 851, 587, 532, 854, 355, 843, 850, 838]\n"
     ]
    },
    {
     "data": {
      "image/png": "[encoded data removed]",
      "text/plain": [
       "<Figure size 432x288 with 1 Axes>"
      ]
     },
     "metadata": {
      "needs_background": "light",
      "tags": []
     },
     "output_type": "display_data"
    }
   ],
   "source": [
    "class_siezes_test = [0]*20\n",
    "cnt = 0\n",
    "while(cnt < len(df_test_labels)):\n",
    "    class_index = df_test_labels['0'][cnt]\n",
    "    class_siezes_test[class_index] += 1\n",
    "    cnt += 1\n",
    "plt.bar(list(range(20)),class_siezes_test)\n",
    "print(class_siezes_test)"
   ]
  },
  {
   "cell_type": "code",
   "execution_count": 7,
   "metadata": {
    "colab": {
     "base_uri": "https://localhost:8080/",
     "height": 270
    },
    "id": "vHhGFCFoX5NX",
    "outputId": "e145c4a5-42b0-473d-92f9-bb0e3c739eef"
   },
   "outputs": [
    {
     "data": {
      "text/html": [
       "<div>\n",
       "<style scoped>\n",
       "    .dataframe tbody tr th:only-of-type {\n",
       "        vertical-align: middle;\n",
       "    }\n",
       "\n",
       "    .dataframe tbody tr th {\n",
       "        vertical-align: top;\n",
       "    }\n",
       "\n",
       "    .dataframe thead th {\n",
       "        text-align: right;\n",
       "    }\n",
       "</style>\n",
       "<table border=\"1\" class=\"dataframe\">\n",
       "  <thead>\n",
       "    <tr style=\"text-align: right;\">\n",
       "      <th></th>\n",
       "      <th>Unnamed: 0</th>\n",
       "      <th>0</th>\n",
       "      <th>1</th>\n",
       "      <th>2</th>\n",
       "      <th>3</th>\n",
       "      <th>4</th>\n",
       "      <th>5</th>\n",
       "      <th>6</th>\n",
       "      <th>7</th>\n",
       "      <th>8</th>\n",
       "      <th>9</th>\n",
       "      <th>10</th>\n",
       "      <th>11</th>\n",
       "      <th>12</th>\n",
       "      <th>13</th>\n",
       "      <th>14</th>\n",
       "      <th>15</th>\n",
       "      <th>16</th>\n",
       "      <th>17</th>\n",
       "      <th>18</th>\n",
       "      <th>19</th>\n",
       "      <th>20</th>\n",
       "      <th>21</th>\n",
       "      <th>22</th>\n",
       "      <th>23</th>\n",
       "      <th>24</th>\n",
       "      <th>25</th>\n",
       "      <th>26</th>\n",
       "      <th>27</th>\n",
       "      <th>28</th>\n",
       "      <th>29</th>\n",
       "      <th>30</th>\n",
       "      <th>31</th>\n",
       "      <th>32</th>\n",
       "      <th>33</th>\n",
       "      <th>34</th>\n",
       "      <th>35</th>\n",
       "      <th>36</th>\n",
       "      <th>37</th>\n",
       "      <th>38</th>\n",
       "      <th>...</th>\n",
       "      <th>744</th>\n",
       "      <th>745</th>\n",
       "      <th>746</th>\n",
       "      <th>747</th>\n",
       "      <th>748</th>\n",
       "      <th>749</th>\n",
       "      <th>750</th>\n",
       "      <th>751</th>\n",
       "      <th>752</th>\n",
       "      <th>753</th>\n",
       "      <th>754</th>\n",
       "      <th>755</th>\n",
       "      <th>756</th>\n",
       "      <th>757</th>\n",
       "      <th>758</th>\n",
       "      <th>759</th>\n",
       "      <th>760</th>\n",
       "      <th>761</th>\n",
       "      <th>762</th>\n",
       "      <th>763</th>\n",
       "      <th>764</th>\n",
       "      <th>765</th>\n",
       "      <th>766</th>\n",
       "      <th>767</th>\n",
       "      <th>768</th>\n",
       "      <th>769</th>\n",
       "      <th>770</th>\n",
       "      <th>771</th>\n",
       "      <th>772</th>\n",
       "      <th>773</th>\n",
       "      <th>774</th>\n",
       "      <th>775</th>\n",
       "      <th>776</th>\n",
       "      <th>777</th>\n",
       "      <th>778</th>\n",
       "      <th>779</th>\n",
       "      <th>780</th>\n",
       "      <th>781</th>\n",
       "      <th>782</th>\n",
       "      <th>783</th>\n",
       "    </tr>\n",
       "  </thead>\n",
       "  <tbody>\n",
       "    <tr>\n",
       "      <th>0</th>\n",
       "      <td>0</td>\n",
       "      <td>0.00000</td>\n",
       "      <td>0.000000</td>\n",
       "      <td>0.000000</td>\n",
       "      <td>0.000000</td>\n",
       "      <td>0.000000</td>\n",
       "      <td>0.000000</td>\n",
       "      <td>0.0</td>\n",
       "      <td>0.0</td>\n",
       "      <td>0.0</td>\n",
       "      <td>0.0</td>\n",
       "      <td>0.168627</td>\n",
       "      <td>0.419608</td>\n",
       "      <td>0.074510</td>\n",
       "      <td>0.000000</td>\n",
       "      <td>0.000000</td>\n",
       "      <td>0.000000</td>\n",
       "      <td>0.0</td>\n",
       "      <td>0.0</td>\n",
       "      <td>0.0</td>\n",
       "      <td>0.0</td>\n",
       "      <td>0.0</td>\n",
       "      <td>0.0</td>\n",
       "      <td>0.0</td>\n",
       "      <td>0.0</td>\n",
       "      <td>0.0</td>\n",
       "      <td>0.0</td>\n",
       "      <td>0.0</td>\n",
       "      <td>0.0</td>\n",
       "      <td>0.000000</td>\n",
       "      <td>0.000000</td>\n",
       "      <td>0.000000</td>\n",
       "      <td>0.000000</td>\n",
       "      <td>0.0</td>\n",
       "      <td>0.000000</td>\n",
       "      <td>0.000000</td>\n",
       "      <td>0.000000</td>\n",
       "      <td>0.007843</td>\n",
       "      <td>0.388235</td>\n",
       "      <td>0.874510</td>\n",
       "      <td>...</td>\n",
       "      <td>0.964706</td>\n",
       "      <td>0.858824</td>\n",
       "      <td>0.709804</td>\n",
       "      <td>0.517647</td>\n",
       "      <td>0.831373</td>\n",
       "      <td>0.850980</td>\n",
       "      <td>0.764706</td>\n",
       "      <td>0.415686</td>\n",
       "      <td>0.239216</td>\n",
       "      <td>0.015686</td>\n",
       "      <td>0.0</td>\n",
       "      <td>0.0</td>\n",
       "      <td>0.0</td>\n",
       "      <td>0.000000</td>\n",
       "      <td>0.000000</td>\n",
       "      <td>0.000000</td>\n",
       "      <td>0.007843</td>\n",
       "      <td>0.207843</td>\n",
       "      <td>0.462745</td>\n",
       "      <td>0.537255</td>\n",
       "      <td>0.552941</td>\n",
       "      <td>0.737255</td>\n",
       "      <td>0.964706</td>\n",
       "      <td>1.000000</td>\n",
       "      <td>1.000000</td>\n",
       "      <td>0.913725</td>\n",
       "      <td>0.556863</td>\n",
       "      <td>0.388235</td>\n",
       "      <td>0.372549</td>\n",
       "      <td>0.286275</td>\n",
       "      <td>0.043137</td>\n",
       "      <td>0.011765</td>\n",
       "      <td>0.043137</td>\n",
       "      <td>0.007843</td>\n",
       "      <td>0.0</td>\n",
       "      <td>0.0</td>\n",
       "      <td>0.0</td>\n",
       "      <td>0.0</td>\n",
       "      <td>0.0</td>\n",
       "      <td>0.0</td>\n",
       "    </tr>\n",
       "    <tr>\n",
       "      <th>1</th>\n",
       "      <td>1</td>\n",
       "      <td>0.00000</td>\n",
       "      <td>0.000000</td>\n",
       "      <td>0.000000</td>\n",
       "      <td>0.000000</td>\n",
       "      <td>0.000000</td>\n",
       "      <td>0.000000</td>\n",
       "      <td>0.0</td>\n",
       "      <td>0.0</td>\n",
       "      <td>0.0</td>\n",
       "      <td>0.0</td>\n",
       "      <td>0.000000</td>\n",
       "      <td>0.000000</td>\n",
       "      <td>0.015686</td>\n",
       "      <td>0.247059</td>\n",
       "      <td>0.537255</td>\n",
       "      <td>0.431373</td>\n",
       "      <td>0.2</td>\n",
       "      <td>0.0</td>\n",
       "      <td>0.0</td>\n",
       "      <td>0.0</td>\n",
       "      <td>0.0</td>\n",
       "      <td>0.0</td>\n",
       "      <td>0.0</td>\n",
       "      <td>0.0</td>\n",
       "      <td>0.0</td>\n",
       "      <td>0.0</td>\n",
       "      <td>0.0</td>\n",
       "      <td>0.0</td>\n",
       "      <td>0.000000</td>\n",
       "      <td>0.000000</td>\n",
       "      <td>0.000000</td>\n",
       "      <td>0.000000</td>\n",
       "      <td>0.0</td>\n",
       "      <td>0.000000</td>\n",
       "      <td>0.000000</td>\n",
       "      <td>0.000000</td>\n",
       "      <td>0.000000</td>\n",
       "      <td>0.000000</td>\n",
       "      <td>0.000000</td>\n",
       "      <td>...</td>\n",
       "      <td>0.000000</td>\n",
       "      <td>0.000000</td>\n",
       "      <td>0.047059</td>\n",
       "      <td>0.835294</td>\n",
       "      <td>1.000000</td>\n",
       "      <td>0.317647</td>\n",
       "      <td>0.000000</td>\n",
       "      <td>0.000000</td>\n",
       "      <td>0.000000</td>\n",
       "      <td>0.000000</td>\n",
       "      <td>0.0</td>\n",
       "      <td>0.0</td>\n",
       "      <td>0.0</td>\n",
       "      <td>0.000000</td>\n",
       "      <td>0.000000</td>\n",
       "      <td>0.000000</td>\n",
       "      <td>0.000000</td>\n",
       "      <td>0.000000</td>\n",
       "      <td>0.000000</td>\n",
       "      <td>0.000000</td>\n",
       "      <td>0.000000</td>\n",
       "      <td>0.000000</td>\n",
       "      <td>0.000000</td>\n",
       "      <td>0.000000</td>\n",
       "      <td>0.000000</td>\n",
       "      <td>0.000000</td>\n",
       "      <td>0.000000</td>\n",
       "      <td>0.000000</td>\n",
       "      <td>0.000000</td>\n",
       "      <td>0.000000</td>\n",
       "      <td>0.000000</td>\n",
       "      <td>0.090196</td>\n",
       "      <td>0.647059</td>\n",
       "      <td>0.141176</td>\n",
       "      <td>0.0</td>\n",
       "      <td>0.0</td>\n",
       "      <td>0.0</td>\n",
       "      <td>0.0</td>\n",
       "      <td>0.0</td>\n",
       "      <td>0.0</td>\n",
       "    </tr>\n",
       "    <tr>\n",
       "      <th>2</th>\n",
       "      <td>2</td>\n",
       "      <td>0.00000</td>\n",
       "      <td>0.000000</td>\n",
       "      <td>0.000000</td>\n",
       "      <td>0.000000</td>\n",
       "      <td>0.000000</td>\n",
       "      <td>0.000000</td>\n",
       "      <td>0.0</td>\n",
       "      <td>0.0</td>\n",
       "      <td>0.0</td>\n",
       "      <td>0.0</td>\n",
       "      <td>0.000000</td>\n",
       "      <td>0.000000</td>\n",
       "      <td>0.000000</td>\n",
       "      <td>0.000000</td>\n",
       "      <td>0.000000</td>\n",
       "      <td>0.000000</td>\n",
       "      <td>0.0</td>\n",
       "      <td>0.0</td>\n",
       "      <td>0.0</td>\n",
       "      <td>0.0</td>\n",
       "      <td>0.0</td>\n",
       "      <td>0.0</td>\n",
       "      <td>0.0</td>\n",
       "      <td>0.0</td>\n",
       "      <td>0.0</td>\n",
       "      <td>0.0</td>\n",
       "      <td>0.0</td>\n",
       "      <td>0.0</td>\n",
       "      <td>0.000000</td>\n",
       "      <td>0.000000</td>\n",
       "      <td>0.000000</td>\n",
       "      <td>0.000000</td>\n",
       "      <td>0.0</td>\n",
       "      <td>0.000000</td>\n",
       "      <td>0.000000</td>\n",
       "      <td>0.000000</td>\n",
       "      <td>0.000000</td>\n",
       "      <td>0.000000</td>\n",
       "      <td>0.000000</td>\n",
       "      <td>...</td>\n",
       "      <td>0.000000</td>\n",
       "      <td>0.000000</td>\n",
       "      <td>0.000000</td>\n",
       "      <td>0.000000</td>\n",
       "      <td>0.000000</td>\n",
       "      <td>0.000000</td>\n",
       "      <td>0.000000</td>\n",
       "      <td>0.000000</td>\n",
       "      <td>0.000000</td>\n",
       "      <td>0.000000</td>\n",
       "      <td>0.0</td>\n",
       "      <td>0.0</td>\n",
       "      <td>0.0</td>\n",
       "      <td>0.000000</td>\n",
       "      <td>0.000000</td>\n",
       "      <td>0.000000</td>\n",
       "      <td>0.000000</td>\n",
       "      <td>0.000000</td>\n",
       "      <td>0.000000</td>\n",
       "      <td>0.000000</td>\n",
       "      <td>0.000000</td>\n",
       "      <td>0.000000</td>\n",
       "      <td>0.000000</td>\n",
       "      <td>0.000000</td>\n",
       "      <td>0.000000</td>\n",
       "      <td>0.000000</td>\n",
       "      <td>0.000000</td>\n",
       "      <td>0.000000</td>\n",
       "      <td>0.000000</td>\n",
       "      <td>0.000000</td>\n",
       "      <td>0.000000</td>\n",
       "      <td>0.000000</td>\n",
       "      <td>0.000000</td>\n",
       "      <td>0.000000</td>\n",
       "      <td>0.0</td>\n",
       "      <td>0.0</td>\n",
       "      <td>0.0</td>\n",
       "      <td>0.0</td>\n",
       "      <td>0.0</td>\n",
       "      <td>0.0</td>\n",
       "    </tr>\n",
       "    <tr>\n",
       "      <th>3</th>\n",
       "      <td>3</td>\n",
       "      <td>0.05098</td>\n",
       "      <td>0.196078</td>\n",
       "      <td>0.184314</td>\n",
       "      <td>0.219608</td>\n",
       "      <td>0.368627</td>\n",
       "      <td>0.141176</td>\n",
       "      <td>0.0</td>\n",
       "      <td>0.0</td>\n",
       "      <td>0.0</td>\n",
       "      <td>0.0</td>\n",
       "      <td>0.000000</td>\n",
       "      <td>0.000000</td>\n",
       "      <td>0.000000</td>\n",
       "      <td>0.000000</td>\n",
       "      <td>0.000000</td>\n",
       "      <td>0.000000</td>\n",
       "      <td>0.0</td>\n",
       "      <td>0.0</td>\n",
       "      <td>0.0</td>\n",
       "      <td>0.0</td>\n",
       "      <td>0.0</td>\n",
       "      <td>0.0</td>\n",
       "      <td>0.0</td>\n",
       "      <td>0.0</td>\n",
       "      <td>0.0</td>\n",
       "      <td>0.0</td>\n",
       "      <td>0.0</td>\n",
       "      <td>0.0</td>\n",
       "      <td>0.180392</td>\n",
       "      <td>0.654902</td>\n",
       "      <td>0.894118</td>\n",
       "      <td>0.980392</td>\n",
       "      <td>1.0</td>\n",
       "      <td>0.952941</td>\n",
       "      <td>0.352941</td>\n",
       "      <td>0.003922</td>\n",
       "      <td>0.000000</td>\n",
       "      <td>0.000000</td>\n",
       "      <td>0.113725</td>\n",
       "      <td>...</td>\n",
       "      <td>0.000000</td>\n",
       "      <td>0.000000</td>\n",
       "      <td>0.000000</td>\n",
       "      <td>0.000000</td>\n",
       "      <td>0.000000</td>\n",
       "      <td>0.000000</td>\n",
       "      <td>0.000000</td>\n",
       "      <td>0.000000</td>\n",
       "      <td>0.000000</td>\n",
       "      <td>0.000000</td>\n",
       "      <td>0.0</td>\n",
       "      <td>0.0</td>\n",
       "      <td>0.0</td>\n",
       "      <td>0.156863</td>\n",
       "      <td>0.533333</td>\n",
       "      <td>0.047059</td>\n",
       "      <td>0.000000</td>\n",
       "      <td>0.000000</td>\n",
       "      <td>0.000000</td>\n",
       "      <td>0.000000</td>\n",
       "      <td>0.000000</td>\n",
       "      <td>0.000000</td>\n",
       "      <td>0.000000</td>\n",
       "      <td>0.000000</td>\n",
       "      <td>0.000000</td>\n",
       "      <td>0.000000</td>\n",
       "      <td>0.000000</td>\n",
       "      <td>0.000000</td>\n",
       "      <td>0.000000</td>\n",
       "      <td>0.000000</td>\n",
       "      <td>0.000000</td>\n",
       "      <td>0.000000</td>\n",
       "      <td>0.000000</td>\n",
       "      <td>0.000000</td>\n",
       "      <td>0.0</td>\n",
       "      <td>0.0</td>\n",
       "      <td>0.0</td>\n",
       "      <td>0.0</td>\n",
       "      <td>0.0</td>\n",
       "      <td>0.0</td>\n",
       "    </tr>\n",
       "    <tr>\n",
       "      <th>4</th>\n",
       "      <td>4</td>\n",
       "      <td>0.00000</td>\n",
       "      <td>0.000000</td>\n",
       "      <td>0.000000</td>\n",
       "      <td>0.000000</td>\n",
       "      <td>0.000000</td>\n",
       "      <td>0.000000</td>\n",
       "      <td>0.0</td>\n",
       "      <td>0.0</td>\n",
       "      <td>0.0</td>\n",
       "      <td>0.0</td>\n",
       "      <td>0.192157</td>\n",
       "      <td>0.031373</td>\n",
       "      <td>0.000000</td>\n",
       "      <td>0.376471</td>\n",
       "      <td>0.341176</td>\n",
       "      <td>0.000000</td>\n",
       "      <td>0.0</td>\n",
       "      <td>0.0</td>\n",
       "      <td>0.0</td>\n",
       "      <td>0.0</td>\n",
       "      <td>0.0</td>\n",
       "      <td>0.0</td>\n",
       "      <td>0.0</td>\n",
       "      <td>0.0</td>\n",
       "      <td>0.0</td>\n",
       "      <td>0.0</td>\n",
       "      <td>0.0</td>\n",
       "      <td>0.0</td>\n",
       "      <td>0.000000</td>\n",
       "      <td>0.000000</td>\n",
       "      <td>0.000000</td>\n",
       "      <td>0.000000</td>\n",
       "      <td>0.0</td>\n",
       "      <td>0.000000</td>\n",
       "      <td>0.000000</td>\n",
       "      <td>0.000000</td>\n",
       "      <td>0.000000</td>\n",
       "      <td>0.000000</td>\n",
       "      <td>0.415686</td>\n",
       "      <td>...</td>\n",
       "      <td>0.000000</td>\n",
       "      <td>0.000000</td>\n",
       "      <td>0.000000</td>\n",
       "      <td>0.000000</td>\n",
       "      <td>0.000000</td>\n",
       "      <td>0.000000</td>\n",
       "      <td>0.000000</td>\n",
       "      <td>0.000000</td>\n",
       "      <td>0.000000</td>\n",
       "      <td>0.000000</td>\n",
       "      <td>0.0</td>\n",
       "      <td>0.0</td>\n",
       "      <td>0.0</td>\n",
       "      <td>0.000000</td>\n",
       "      <td>0.000000</td>\n",
       "      <td>0.000000</td>\n",
       "      <td>0.000000</td>\n",
       "      <td>0.000000</td>\n",
       "      <td>0.000000</td>\n",
       "      <td>0.000000</td>\n",
       "      <td>0.000000</td>\n",
       "      <td>0.000000</td>\n",
       "      <td>0.141176</td>\n",
       "      <td>0.835294</td>\n",
       "      <td>0.054902</td>\n",
       "      <td>0.000000</td>\n",
       "      <td>0.000000</td>\n",
       "      <td>0.000000</td>\n",
       "      <td>0.000000</td>\n",
       "      <td>0.000000</td>\n",
       "      <td>0.000000</td>\n",
       "      <td>0.000000</td>\n",
       "      <td>0.000000</td>\n",
       "      <td>0.000000</td>\n",
       "      <td>0.0</td>\n",
       "      <td>0.0</td>\n",
       "      <td>0.0</td>\n",
       "      <td>0.0</td>\n",
       "      <td>0.0</td>\n",
       "      <td>0.0</td>\n",
       "    </tr>\n",
       "  </tbody>\n",
       "</table>\n",
       "<p>5 rows × 785 columns</p>\n",
       "</div>"
      ],
      "text/plain": [
       "   Unnamed: 0        0         1         2         3  ...  779  780  781  782  783\n",
       "0           0  0.00000  0.000000  0.000000  0.000000  ...  0.0  0.0  0.0  0.0  0.0\n",
       "1           1  0.00000  0.000000  0.000000  0.000000  ...  0.0  0.0  0.0  0.0  0.0\n",
       "2           2  0.00000  0.000000  0.000000  0.000000  ...  0.0  0.0  0.0  0.0  0.0\n",
       "3           3  0.05098  0.196078  0.184314  0.219608  ...  0.0  0.0  0.0  0.0  0.0\n",
       "4           4  0.00000  0.000000  0.000000  0.000000  ...  0.0  0.0  0.0  0.0  0.0\n",
       "\n",
       "[5 rows x 785 columns]"
      ]
     },
     "execution_count": 7,
     "metadata": {
      "tags": []
     },
     "output_type": "execute_result"
    }
   ],
   "source": [
    "df_train_scaled = df_train.div(255)\n",
    "df_train_scaled. iloc[:, 0] = df_train. iloc[:, 0]\n",
    "\n",
    "df_test_scaled = df_test.div(255)\n",
    "df_test_scaled. iloc[:, 0] = df_test. iloc[:, 0]\n",
    "\n",
    "df_train_labels['0'] = df_train_labels['0'].astype(int)\n",
    "df_test_labels['0'] = df_test_labels['0'].astype(int)\n",
    "\n",
    "df_train_scaled.head()"
   ]
  },
  {
   "cell_type": "code",
   "execution_count": 8,
   "metadata": {
    "id": "x4w-FjztX_fu"
   },
   "outputs": [],
   "source": [
    "np_train_labels = df_train_labels['0'].to_numpy()\n",
    "np_test_labels = df_test_labels['0'].to_numpy()\n",
    "np_train_scaled = np.matrix(df_train_scaled.iloc[: , 1:])\n",
    "np_test_scaled = np.matrix(df_test_scaled.iloc[: , 1:])"
   ]
  },
  {
   "cell_type": "code",
   "execution_count": 9,
   "metadata": {
    "colab": {
     "base_uri": "https://localhost:8080/"
    },
    "id": "apzsfcXoCWmW",
    "outputId": "45b19b71-efef-423e-c0bc-4e9c76d1b386"
   },
   "outputs": [
    {
     "name": "stdout",
     "output_type": "stream",
     "text": [
      "(60000,)\n",
      "(15000,)\n",
      "(60000, 784)\n",
      "(15000, 784)\n"
     ]
    }
   ],
   "source": [
    "print(np_train_labels.shape)\n",
    "print(np_test_labels.shape)\n",
    "print(np_train_scaled.shape)\n",
    "print(np_test_scaled.shape)\n"
   ]
  },
  {
   "cell_type": "code",
   "execution_count": 10,
   "metadata": {
    "id": "gb2vWOsETF21"
   },
   "outputs": [],
   "source": [
    "class Dataloader:\n",
    "    \n",
    "    def __init__(self, data, labels, n_classes, batch_size=None, shuffle=False):\n",
    "\n",
    "        assert len(data)==len(labels)\n",
    "        self.__n_classes = n_classes\n",
    "        self.__batch_size = batch_size\n",
    "        self.__shuffle = shuffle\n",
    "        self.__data = data\n",
    "        self.__onehot_labels = self.__onehot(labels, self.__n_classes)\n",
    "    \n",
    "    def __onehot(self, labels, n_classes):\n",
    "        # TODO: Implement\n",
    "        onehot_vectors = []\n",
    "        for label in labels:\n",
    "            assert label <= n_classes, \"label is more than numer of classes\"\n",
    "            one_hot_mod = [0] * n_classes\n",
    "            one_hot_mod[int(label)] = 1\n",
    "            onehot_vectors.append(one_hot_mod)\n",
    "                \n",
    "        return onehot_vectors\n",
    "    \n",
    "    def __shuffle_dataset(self):\n",
    "        # TODO: Implement\n",
    "        self.__data, self.__onehot_labels = shuffle(self.__data, self.__onehot_labels)\n",
    "    \n",
    "    def __iter__(self):\n",
    "        \n",
    "        if self.__shuffle:\n",
    "            self.__shuffle_dataset()\n",
    "            \n",
    "        if self.__batch_size==None:\n",
    "            yield (np.matrix(self.__data), np.matrix(self.__onehot_labels))\n",
    "            return\n",
    "            \n",
    "        for idx in range(0, len(self.__data), self.__batch_size):\n",
    "            yield (np.matrix(self.__data[idx:idx+self.__batch_size]), \n",
    "                   np.matrix(self.__onehot_labels[idx:idx+self.__batch_size]))"
   ]
  },
  {
   "cell_type": "code",
   "execution_count": 11,
   "metadata": {
    "id": "1Yl-1QlyULzY"
   },
   "outputs": [],
   "source": [
    "class Identical:\n",
    "    \n",
    "    def __init__(self): pass\n",
    "    \n",
    "    def __val(self, matrix):\n",
    "        identical_value = np.matrix(matrix, dtype=float)\n",
    "        return identical_value\n",
    "\n",
    "    def derivative(self, matrix):\n",
    "        temp = np.matrix(matrix, dtype=float)\n",
    "        identical_derivative = np.matrix(np.full(np.shape(temp), 1.))\n",
    "        return identical_derivative\n",
    "    \n",
    "    def __call__(self, matrix):\n",
    "        return self.__val(matrix)\n",
    "    \n",
    "\n",
    "class Relu:\n",
    "    \n",
    "    def __init__(self): pass\n",
    "    \n",
    "    def __val(self, matrix):\n",
    "        # TODO: Implement\n",
    "        \n",
    "        relu_value = np.matrix(matrix, dtype=float)\n",
    "        return np.maximum(0,relu_value)\n",
    "\n",
    "        \n",
    "        '''for row_cnt in range(len(relu_value)):\n",
    "            for col_cnt in range(relu_value.shape[1]):\n",
    "                relu_value[row_cnt][col_cnt] = 0 if relu_value[row_cnt][col_cnt]<0 else relu_value[row_cnt][col_cnt]\n",
    "        \n",
    "        \n",
    "        return relu_value'''\n",
    "\n",
    "    def derivative(self, matrix):\n",
    "        # TODO: Implement\n",
    "        relu_derivative = np.matrix(matrix, dtype=float)\n",
    "        return np.heaviside(relu_derivative, 0)\n",
    "        \n",
    "        '''\n",
    "        for row_cnt in range(len(relu_derivative)):\n",
    "            for col_cnt in range(relu_derivative.shape[1]):\n",
    "                relu_derivative[row_cnt][col_cnt] = 0 if relu_derivative[row_cnt][col_cnt]<0 else 1\n",
    "        \n",
    "        return relu_derivative'''\n",
    "    \n",
    "    def __call__(self, matrix):\n",
    "        return self.__val(matrix)\n",
    "\n",
    "    \n",
    "class LeakyRelu:\n",
    "    \n",
    "    def __init__(self, negative_slope=0.01):\n",
    "        self.negative_slope = 0.01\n",
    "    \n",
    "    def __val(self, matrix):\n",
    "        leaky_relu_value = np.matrix(matrix)\n",
    "        return np.maximum(leaky_relu_value * self.negative_slope, leaky_relu_value)\n",
    "        \n",
    "        '''\n",
    "        for row_cnt in range(len(leaky_relu_value)):\n",
    "            for col_cnt in range(leaky_relu_value.shape[1]):\n",
    "                #print(\"matrix.shape:\", leaky_relu_value.shape)\n",
    "                #print(\"matrix[row_cnt][col_cnt]:\",leaky_relu_value[row_cnt][col_cnt])\n",
    "                coef = self.negative_slope if leaky_relu_value[row_cnt][col_cnt]<0 else 1\n",
    "                leaky_relu_value[row_cnt][col_cnt] *= coef\n",
    "        \n",
    "        return leaky_relu_value'''\n",
    "\n",
    "    def derivative(self, matrix):\n",
    "        # TODO: Implement\n",
    "        leacky_relu_derivative = np.matrix(matrix)\n",
    "        #print(\"leacky_relu_derivative.shape\", leacky_relu_derivative.shape)\n",
    "        for row_cnt in range(len(leacky_relu_derivative)):\n",
    "            for col_cnt in range(leacky_relu_derivative.shape[1]):\n",
    "                leacky_relu_derivative[row_cnt][col_cnt] = self.negative_slope if leacky_relu_derivative[row_cnt][col_cnt]<0 else 1\n",
    "        \n",
    "        return leacky_relu_derivative\n",
    "    \n",
    "    def __call__(self, matrix):\n",
    "        return self.__val(matrix)\n",
    "\n",
    "    \n",
    "class Sigmoid:\n",
    "    \n",
    "    def __init__(self): pass\n",
    "\n",
    "    def __val(self, matrix):\n",
    "        # TODO: Implement\n",
    "        sigmoid_value = 1 / (1 + np.exp(-np.matrix(matrix)))\n",
    "        return sigmoid_value\n",
    "\n",
    "    def derivative(self, matrix):\n",
    "        # TODO: Implement\n",
    "        sigmoid_value = 1 / (1 + np.exp(-np.matrix(matrix)))\n",
    "        sigmoid_derivative = sigmoid_value * (1 - sigmoid_value)\n",
    "        return sigmoid_derivative\n",
    "    \n",
    "    def __call__(self, matrix):\n",
    "        return self.__val(matrix)\n",
    "\n",
    "\n",
    "class Softmax:\n",
    "    \n",
    "    def __init__(self): pass\n",
    "\n",
    "    def __val(self, matrix):\n",
    "        # TODO: Implement\n",
    "        softmax_value = np.matrix(matrix, dtype=float)\n",
    "        for i in range(softmax_value.shape[0]):\n",
    "          max = np.max(softmax_value[i])\n",
    "          num = np.exp(np.subtract(softmax_value[i], max))\n",
    "          den = np.sum(num)\n",
    "          softmax_value[i] = np.divide(num, den)\n",
    "        return np.clip(softmax_value,10**(-10),10**10)\n",
    "        '''\n",
    "        softmax_value = np.matrix(matrix, dtype=float)\n",
    "        for row_cnt in range(len(softmax_value)):\n",
    "            max_ = np.max(softmax_value[row_cnt])\n",
    "            softmax_value[row_cnt] = np.exp(softmax_value[row_cnt]-max_)\n",
    "            softmax_value[row_cnt] /= sum(softmax_value[row_cnt])\n",
    "            \n",
    "        return softmax_value'''\n",
    "    \n",
    "    def __call__(self, matrix):\n",
    "        return self.__val(matrix)\n",
    "    \n",
    "class Tanh:\n",
    "    \n",
    "    def __init__(self): pass\n",
    "\n",
    "    def __val(self, matrix):\n",
    "        # TODO: Implement\n",
    "        tanh_value = np.matrix(matrix)\n",
    "        tanh_value = np.tanh(tanh_value)\n",
    "        return tanh_value\n",
    "\n",
    "    def derivative(self, matrix):\n",
    "        # TODO: Implement\n",
    "        tanh_derivative = 1 - np.power(np.tanh(matrix), 2)\n",
    "        \n",
    "        return tanh_derivative\n",
    "    \n",
    "    def __call__(self, matrix):\n",
    "        return self.__val(matrix)"
   ]
  },
  {
   "cell_type": "code",
   "execution_count": 12,
   "metadata": {
    "id": "T2HjyMd-TO5v"
   },
   "outputs": [],
   "source": [
    "class CrossEntropy: #(with softmax)\n",
    "    \n",
    "    def __init__(self): pass\n",
    "\n",
    "    def __val(self, true_val, expected_val):\n",
    "        #print(\"np.shape(true_val),np.shape(expected_val):\",np.shape(true_val),np.shape(expected_val))\n",
    "        assert np.shape(true_val)==np.shape(expected_val)\n",
    "        # TODO: Implement\n",
    "        cross_entropy_value = -1 *np.sum(np.multiply(true_val, np.log10(expected_val)))\n",
    "        return cross_entropy_value\n",
    "        \n",
    "    def derivative(self, true_val, expected_val): \n",
    "        '''print(\"np.shape(true_val),np.shape(expected_val):\",np.shape(true_val),np.shape(expected_val))\n",
    "        print(\"true_val:\",true_val)\n",
    "        print(\"expected_val\", expected_val)'''\n",
    "        assert np.shape(true_val)==np.shape(expected_val)\n",
    "        # TODO: Implement\n",
    "        cross_entropy_derivative = -np.array(true_val) + np.array(expected_val)\n",
    "        return cross_entropy_derivative\n",
    "    \n",
    "    def __call__(self, true_val, expected_val):\n",
    "        return self.__val(true_val, expected_val)"
   ]
  },
  {
   "cell_type": "code",
   "execution_count": 19,
   "metadata": {
    "id": "Qs1-DRTVTQM8"
   },
   "outputs": [],
   "source": [
    "class Layer:\n",
    "\n",
    "    DEFAULT_LOW, DEFAULT_HIGH, DEFAULT_MEAN, DEFAULT_VAR = 0, 0.05, 0., 1.\n",
    "  \n",
    "    def __init__(self, input_size, output_size, \n",
    "                 activation=Identical(), initial_weight='uniform', **initializing_parameters):\n",
    "        \n",
    "        assert type(initial_weight)==str, 'Undefined activation function!'\n",
    "        \n",
    "        self.__weight_initializer_dict = {'uniform':self.__uniform_weight, 'normal':self.__normal_weight}\n",
    "        \n",
    "        assert initial_weight in self.__weight_initializer_dict, 'Undefined weight initialization function!'\n",
    "\n",
    "\n",
    "        self.__n_neurons = output_size\n",
    "        weight_initializer = self.__weight_initializer_dict[initial_weight]\n",
    "        print(\"input_size:\", input_size, \"self.__n_neurons:\", self.__n_neurons)\n",
    "        self.__weight = weight_initializer(input_size, self.__n_neurons, **initializing_parameters)\n",
    "        self.__bias = weight_initializer(1, self.__n_neurons, **initializing_parameters)\n",
    "        self.__activation = activation\n",
    "        \n",
    "        self.__last_input = None\n",
    "        self.__last_activation_input = None\n",
    "        self.__last_activation_output = None\n",
    "        self.__last_activation_derivative = None\n",
    "        \n",
    "    def forward(self, layer_input):\n",
    "        assert np.ndim(layer_input)==2\n",
    "        #print(\"np.size(self.__weight,0),np.size(layer_input,1):\",np.size(self.__weight,0),np.size(layer_input,1))\n",
    "        assert np.size(self.__weight,0) == np.size(layer_input,1)\n",
    "        # TODO: Implement\n",
    "        self.__last_input = layer_input\n",
    "        #be carfull about matmul broadcasting\n",
    "        #self.__last_activation_input = np.matmul(self.__last_input, self.__weight) + self.__bias\n",
    "        self.__last_activation_input = np.dot(self.__last_input, self.__weight) + self.__bias\n",
    "        self.__last_activation_output = self.__activation(self.__last_activation_input)\n",
    "        self.__last_activation_derivative = self.__activation.derivative(self.__last_activation_input)\n",
    "        return self.__last_activation_output\n",
    "    \n",
    "    def update_weights(self, backprop_tensor, lr):\n",
    "        assert np.ndim(backprop_tensor)==2\n",
    "        assert np.size(backprop_tensor,0) == np.size(self.__last_activation_derivative,0)\n",
    "        assert np.size(backprop_tensor,1) == self.__n_neurons\n",
    "        # TODO: Implement\n",
    "        self.__weight -= lr * np.dot(np.transpose(self.__last_input), \n",
    "                                np.array(backprop_tensor)*\n",
    "                                np.array(self.__last_activation_derivative))\n",
    "        self.__bias -= lr * np.array(backprop_tensor) * np.array(self.__last_activation_derivative)\n",
    "        backprop_tensor = np.dot(np.array(backprop_tensor)*np.array(self.__last_activation_derivative), np.transpose(self.__weight))\n",
    "        \n",
    "        return backprop_tensor\n",
    "\n",
    "    def __uniform_weight(self, dim1, dim2, **initializing_parameters):\n",
    "        low, high = self.DEFAULT_LOW, self.DEFAULT_HIGH\n",
    "        if 'low' in initializing_parameters.keys(): low = initializing_parameters['low']\n",
    "        if 'high' in initializing_parameters.keys(): high = initializing_parameters['high']\n",
    "        # TODO: Implement\n",
    "        #print(\"dim1:\",dim1,\"dim2\",dim2)\n",
    "        weights = np.random.uniform(low=low, high=high, size=[dim1, dim2])\n",
    "        return weights\n",
    "\n",
    "    def __normal_weight(self, dim1, dim2, **initializing_parameters):\n",
    "        mean, var = self.DEFAULT_MEAN, self.DEFAULT_VAR\n",
    "        if 'mean' in initializing_parameters.keys(): mean = initializing_parameters['mean']\n",
    "        if 'var' in initializing_parameters.keys(): var = initializing_parameters['var']\n",
    "        # TODO: Implement\n",
    "        weights = np.random.normal(loc=mean, scale=var, size=[dim1, dim2])\n",
    "        return weights\n",
    "\n",
    "    def set_last_input(self, last_input):\n",
    "      self.__last_input = last_input\n",
    "    \n",
    "    def get_last_input(self):\n",
    "      return self.__last_input\n",
    "\n",
    "    def set_last_activation_input(self, last_activation_input):\n",
    "      self.__last_activation_input = last_activation_input\n",
    "    \n",
    "    def get_last_activation_input(self):\n",
    "      return self.__last_activation_input \n",
    "    \n",
    "    def set_last_activation_output(self, last_activation_output):\n",
    "      self.__last_activation_output = last_activation_output\n",
    "    \n",
    "    def get_last_activation_output(self):\n",
    "      return self.__last_activation_output \n",
    "\n",
    "    def set_last_derivative(self, last_der):\n",
    "      self.__last_activation_derivative = last_der\n",
    "\n",
    "    def get_last_derivative(self):\n",
    "      return self.__last_activation_derivative\n",
    "    \n",
    "    @property\n",
    "    def n_neurons(self): return self.__n_neurons\n",
    "    \n",
    "    @property\n",
    "    def weight(self): return self.__weight\n",
    "    \n",
    "    @property\n",
    "    def bias(self): return self.__bias\n",
    "    \n",
    "    @property\n",
    "    def activation(self): return self.__activation"
   ]
  },
  {
   "cell_type": "code",
   "execution_count": 20,
   "metadata": {
    "id": "ghzrQiVgTT9_"
   },
   "outputs": [],
   "source": [
    "from copy import deepcopy\n",
    "class FeedForwardNN:\n",
    "    \n",
    "    def __init__(self, input_shape):\n",
    "        \n",
    "        self.__input_shape = input_shape\n",
    "        self.__output_shape = None\n",
    "        \n",
    "        self.__layers_list = []\n",
    "        \n",
    "        self.__lr = None\n",
    "        self.__loss = None\n",
    "\n",
    "        \n",
    "    def add_layer(self, n_neurons, activation=Relu(), initial_weight='uniform', **initializing_parameters):\n",
    "         \n",
    "        assert type(n_neurons)==int, \"Invalid number of neurons for the layer!\"\n",
    "        assert n_neurons>0, \"Invalid number of neurons for the layer!\"\n",
    "        \n",
    "        n_prev_neurons = self.__input_shape if len(self.__layers_list)==0 else self.__layers_list[-1].n_neurons\n",
    "        #print(\"n_prev_neurons:\",n_prev_neurons, \"n_neurons\", n_neurons)\n",
    "        new_layer = Layer(n_prev_neurons, n_neurons, activation, initial_weight, **initializing_parameters)\n",
    "        self.__layers_list.append(new_layer)\n",
    "        self.__output_shape = self.__layers_list[-1].n_neurons \n",
    "      \n",
    "    \n",
    "    def set_training_param(self, loss=CrossEntropy(), lr=1e-3):\n",
    "        assert self.__layers_list, \"Uncomplete model!\"\n",
    "        self.__loss = loss\n",
    "        self.__lr = lr\n",
    "    \n",
    "    \n",
    "    def forward(self, network_input):\n",
    "        assert type(self.__output_shape) != None, \"Model is not compiled!\"\n",
    "        # TODO: Implement\n",
    "        softmax_func = Softmax()\n",
    "        layer_out = network_input\n",
    "        for each_layer in self.__layers_list:\n",
    "            layer_out = each_layer.forward(layer_out)\n",
    "        network_output = softmax_func(layer_out)\n",
    "        return network_output\n",
    "    \n",
    "    \n",
    "    def fit(self, epochs, trainloader, testloader=None, print_results=True):\n",
    "        \n",
    "        assert type(self.__output_shape) != None, \"Model is not compiled!\"\n",
    "        assert type(self.__lr) != None and type(self.__loss) != None, \"Training paramenters are not set!\"\n",
    "\n",
    "        log = {\"train_accuracy\":[], \"train_loss\":[], \"test_accuracy\":[], \"test_loss\":[]}\n",
    "        \n",
    "        for epoch in range(1, epochs+1):\n",
    "            \n",
    "            if print_results: \n",
    "                print('Epoch {}:'.format(epoch)) \n",
    "                \n",
    "            average_accuracy, average_loss = self.__train(trainloader)\n",
    "            log['train_accuracy'].append(average_accuracy)\n",
    "            log['train_loss'].append(average_loss)\n",
    "            if print_results:\n",
    "                print('\\tTrain: Average Accuracy: {}\\tAverage Loss: {}'.format(average_accuracy, average_loss))\n",
    "            \n",
    "            if type(testloader) != type(None):\n",
    "                average_accuracy, average_loss = self.__test(testloader)\n",
    "                log['test_accuracy'].append(average_accuracy)\n",
    "                log['test_loss'].append(average_loss)\n",
    "                if print_results:\n",
    "                    print('\\tTest: Average Accuracy: {}\\tAverage Loss: {}'.format(average_accuracy, average_loss))\n",
    "                    \n",
    "        return log\n",
    "    \n",
    "    \n",
    "    def __train(self, trainloader):\n",
    "        bach_accuracies, batch_losses = [], []\n",
    "        for x_train, y_train in trainloader:\n",
    "            batch_accuracy, batch_loss = self.__train_on_batch(x_train, y_train)\n",
    "            bach_accuracies.append(batch_accuracy)\n",
    "            batch_losses.append(batch_loss)\n",
    "        return np.mean(bach_accuracies), np.mean(batch_losses)\n",
    "    \n",
    "    \n",
    "    def __test(self, testloader):\n",
    "        bach_accuracies, batch_losses = [], []\n",
    "        for x_test, y_test in testloader:\n",
    "            batch_accuracy, batch_loss = self.__test_on_batch(x_test, y_test)\n",
    "            bach_accuracies.append(batch_accuracy)\n",
    "            batch_losses.append(batch_loss)\n",
    "        return np.mean(bach_accuracies), np.mean(batch_losses)\n",
    "\n",
    "    \n",
    "    def __train_on_batch(self, x_batch, y_batch):\n",
    "        # TODO: Implement\n",
    "        for_updating_net = deepcopy(self.__layers_list)\n",
    "        for x,y in zip(x_batch,y_batch):\n",
    "            network_output = self.forward(x)\n",
    "            for layer_cnt in range(len(self.__layers_list)):\n",
    "              layer = self.__layers_list[layer_cnt]\n",
    "              for_updating_net[layer_cnt].set_last_input(layer.get_last_input())\n",
    "              for_updating_net[layer_cnt].set_last_activation_input(layer.get_last_activation_input())\n",
    "              for_updating_net[layer_cnt].set_last_activation_output(layer.get_last_activation_output())\n",
    "              for_updating_net[layer_cnt].set_last_derivative(layer.get_last_derivative())\n",
    "\n",
    "            backprop_tensor = self.__loss.derivative(y, network_output)\n",
    "            for layer_cnt in range(len(for_updating_net)-1, -1, -1):\n",
    "                backprop_tensor = for_updating_net[layer_cnt].update_weights(backprop_tensor, self.__lr)\n",
    "\n",
    "        self.__layers_list = deepcopy(for_updating_net)\n",
    "\n",
    "        outputs = []\n",
    "        for x in x_batch:\n",
    "            outputs.append(self.forward(x))\n",
    "        batch_accuracy = self.__compute_accuracy(y_batch, np.array(outputs))\n",
    "\n",
    "        batch_average_loss = 0\n",
    "        for output, y in zip(outputs, y_batch):\n",
    "            batch_average_loss += self.__loss(y, output)\n",
    "\n",
    "        batch_average_loss /= x_batch.shape[0]\n",
    "        return (batch_accuracy, batch_average_loss)\n",
    "        \n",
    "    def __test_on_batch(self, x_batch, y_batch):\n",
    "        # TODO: Implement\n",
    "        outputs = []\n",
    "        for x in x_batch:\n",
    "            outputs.append(self.forward(x))\n",
    "        batch_accuracy = self.__compute_accuracy(y_batch, np.array(outputs))\n",
    "\n",
    "        batch_average_loss = 0\n",
    "        for output, y in zip(outputs, y_batch):\n",
    "            batch_average_loss += self.__loss(y, output)\n",
    "\n",
    "        batch_average_loss /= x_batch.shape[0]\n",
    "        return (batch_accuracy, batch_average_loss)\n",
    "            \n",
    "        \n",
    "    def __get_labels(self, outputs):\n",
    "        # TODO: Implement\n",
    "        output_lists = []\n",
    "        for cnt in range(outputs.shape[0]):\n",
    "            output_lists.append(np.argmax(outputs[cnt]))\n",
    "        return output_lists\n",
    "    \n",
    "    \n",
    "    def __compute_accuracy(self, output, expected_output):\n",
    "        # TODO: Implement\n",
    "        accuracy = 0\n",
    "        for cnt in range(output.shape[0]):\n",
    "            accuracy = accuracy + 1 if (np.argmax(output[cnt]) == np.argmax(expected_output[cnt])) else accuracy\n",
    "            \n",
    "        accuracy /= output.shape[0]\n",
    "        \n",
    "        return accuracy\n",
    "    \n",
    "    #######################change\n",
    "    def __update_weights(self, output, y_train):\n",
    "        # TODO: Implement\n",
    "\n",
    "        #backprop_tensor = 0\n",
    "        for network_output, y in zip(output, y_train):\n",
    "            #backprop_tensor = np.matrix(self.__loss.derivative(y, network_output))\n",
    "            backprop_tensor = self.__loss.derivative(y, network_output)\n",
    "\n",
    "            for layer_cnt in range(len(self.__layers_list)-1, -1, -1):\n",
    "                backprop_tensor = self.__layers_list[layer_cnt].update_weights(backprop_tensor, self.__lr)\n",
    "\n",
    "        return"
   ]
  },
  {
   "cell_type": "code",
   "execution_count": 21,
   "metadata": {
    "colab": {
     "base_uri": "https://localhost:8080/",
     "height": 493
    },
    "id": "7hIO8wwZYDh3",
    "outputId": "dc350d29-abee-40ed-f788-ecba4e9b2b48"
   },
   "outputs": [
    {
     "name": "stdout",
     "output_type": "stream",
     "text": [
      "input_size: 784 self.__n_neurons: 32\n",
      "input_size: 32 self.__n_neurons: 20\n",
      "Epoch 1:\n",
      "\tTrain: Average Accuracy: 0.4512926439232409\tAverage Loss: 2.0232333804909155\n",
      "\tTest: Average Accuracy: 0.5280585106382979\tAverage Loss: 2.8535279125817516\n",
      "Epoch 2:\n"
     ]
    },
    {
     "ename": "KeyboardInterrupt",
     "evalue": "ignored",
     "output_type": "error",
     "traceback": [
      "\u001b[0;31m---------------------------------------------------------------------------\u001b[0m",
      "\u001b[0;31mKeyboardInterrupt\u001b[0m                         Traceback (most recent call last)",
      "\u001b[0;32m<ipython-input-21-121a07c2c4de>\u001b[0m in \u001b[0;36m<module>\u001b[0;34m()\u001b[0m\n\u001b[1;32m     18\u001b[0m \u001b[0mnetwork\u001b[0m\u001b[0;34m.\u001b[0m\u001b[0mset_training_param\u001b[0m\u001b[0;34m(\u001b[0m\u001b[0mloss\u001b[0m\u001b[0;34m=\u001b[0m\u001b[0mCrossEntropy\u001b[0m\u001b[0;34m(\u001b[0m\u001b[0;34m)\u001b[0m\u001b[0;34m,\u001b[0m \u001b[0mlr\u001b[0m\u001b[0;34m=\u001b[0m\u001b[0mLEARNING_RATE\u001b[0m\u001b[0;34m)\u001b[0m\u001b[0;34m\u001b[0m\u001b[0;34m\u001b[0m\u001b[0m\n\u001b[1;32m     19\u001b[0m \u001b[0;34m\u001b[0m\u001b[0m\n\u001b[0;32m---> 20\u001b[0;31m \u001b[0mlog\u001b[0m \u001b[0;34m=\u001b[0m \u001b[0mnetwork\u001b[0m\u001b[0;34m.\u001b[0m\u001b[0mfit\u001b[0m\u001b[0;34m(\u001b[0m\u001b[0mEPOCHS\u001b[0m\u001b[0;34m,\u001b[0m \u001b[0mTRAINLOADER\u001b[0m\u001b[0;34m,\u001b[0m \u001b[0mTESTLOADER\u001b[0m\u001b[0;34m)\u001b[0m\u001b[0;34m\u001b[0m\u001b[0;34m\u001b[0m\u001b[0m\n\u001b[0m",
      "\u001b[0;32m<ipython-input-20-0dd0853a786b>\u001b[0m in \u001b[0;36mfit\u001b[0;34m(self, epochs, trainloader, testloader, print_results)\u001b[0m\n\u001b[1;32m     54\u001b[0m                 \u001b[0mprint\u001b[0m\u001b[0;34m(\u001b[0m\u001b[0;34m'Epoch {}:'\u001b[0m\u001b[0;34m.\u001b[0m\u001b[0mformat\u001b[0m\u001b[0;34m(\u001b[0m\u001b[0mepoch\u001b[0m\u001b[0;34m)\u001b[0m\u001b[0;34m)\u001b[0m\u001b[0;34m\u001b[0m\u001b[0;34m\u001b[0m\u001b[0m\n\u001b[1;32m     55\u001b[0m \u001b[0;34m\u001b[0m\u001b[0m\n\u001b[0;32m---> 56\u001b[0;31m             \u001b[0maverage_accuracy\u001b[0m\u001b[0;34m,\u001b[0m \u001b[0maverage_loss\u001b[0m \u001b[0;34m=\u001b[0m \u001b[0mself\u001b[0m\u001b[0;34m.\u001b[0m\u001b[0m__train\u001b[0m\u001b[0;34m(\u001b[0m\u001b[0mtrainloader\u001b[0m\u001b[0;34m)\u001b[0m\u001b[0;34m\u001b[0m\u001b[0;34m\u001b[0m\u001b[0m\n\u001b[0m\u001b[1;32m     57\u001b[0m             \u001b[0mlog\u001b[0m\u001b[0;34m[\u001b[0m\u001b[0;34m'train_accuracy'\u001b[0m\u001b[0;34m]\u001b[0m\u001b[0;34m.\u001b[0m\u001b[0mappend\u001b[0m\u001b[0;34m(\u001b[0m\u001b[0maverage_accuracy\u001b[0m\u001b[0;34m)\u001b[0m\u001b[0;34m\u001b[0m\u001b[0;34m\u001b[0m\u001b[0m\n\u001b[1;32m     58\u001b[0m             \u001b[0mlog\u001b[0m\u001b[0;34m[\u001b[0m\u001b[0;34m'train_loss'\u001b[0m\u001b[0;34m]\u001b[0m\u001b[0;34m.\u001b[0m\u001b[0mappend\u001b[0m\u001b[0;34m(\u001b[0m\u001b[0maverage_loss\u001b[0m\u001b[0;34m)\u001b[0m\u001b[0;34m\u001b[0m\u001b[0;34m\u001b[0m\u001b[0m\n",
      "\u001b[0;32m<ipython-input-20-0dd0853a786b>\u001b[0m in \u001b[0;36m__train\u001b[0;34m(self, trainloader)\u001b[0m\n\u001b[1;32m     73\u001b[0m         \u001b[0mbach_accuracies\u001b[0m\u001b[0;34m,\u001b[0m \u001b[0mbatch_losses\u001b[0m \u001b[0;34m=\u001b[0m \u001b[0;34m[\u001b[0m\u001b[0;34m]\u001b[0m\u001b[0;34m,\u001b[0m \u001b[0;34m[\u001b[0m\u001b[0;34m]\u001b[0m\u001b[0;34m\u001b[0m\u001b[0;34m\u001b[0m\u001b[0m\n\u001b[1;32m     74\u001b[0m         \u001b[0;32mfor\u001b[0m \u001b[0mx_train\u001b[0m\u001b[0;34m,\u001b[0m \u001b[0my_train\u001b[0m \u001b[0;32min\u001b[0m \u001b[0mtrainloader\u001b[0m\u001b[0;34m:\u001b[0m\u001b[0;34m\u001b[0m\u001b[0;34m\u001b[0m\u001b[0m\n\u001b[0;32m---> 75\u001b[0;31m             \u001b[0mbatch_accuracy\u001b[0m\u001b[0;34m,\u001b[0m \u001b[0mbatch_loss\u001b[0m \u001b[0;34m=\u001b[0m \u001b[0mself\u001b[0m\u001b[0;34m.\u001b[0m\u001b[0m__train_on_batch\u001b[0m\u001b[0;34m(\u001b[0m\u001b[0mx_train\u001b[0m\u001b[0;34m,\u001b[0m \u001b[0my_train\u001b[0m\u001b[0;34m)\u001b[0m\u001b[0;34m\u001b[0m\u001b[0;34m\u001b[0m\u001b[0m\n\u001b[0m\u001b[1;32m     76\u001b[0m             \u001b[0mbach_accuracies\u001b[0m\u001b[0;34m.\u001b[0m\u001b[0mappend\u001b[0m\u001b[0;34m(\u001b[0m\u001b[0mbatch_accuracy\u001b[0m\u001b[0;34m)\u001b[0m\u001b[0;34m\u001b[0m\u001b[0;34m\u001b[0m\u001b[0m\n\u001b[1;32m     77\u001b[0m             \u001b[0mbatch_losses\u001b[0m\u001b[0;34m.\u001b[0m\u001b[0mappend\u001b[0m\u001b[0;34m(\u001b[0m\u001b[0mbatch_loss\u001b[0m\u001b[0;34m)\u001b[0m\u001b[0;34m\u001b[0m\u001b[0;34m\u001b[0m\u001b[0m\n",
      "\u001b[0;32m<ipython-input-20-0dd0853a786b>\u001b[0m in \u001b[0;36m__train_on_batch\u001b[0;34m(self, x_batch, y_batch)\u001b[0m\n\u001b[1;32m    102\u001b[0m             \u001b[0mbackprop_tensor\u001b[0m \u001b[0;34m=\u001b[0m \u001b[0mself\u001b[0m\u001b[0;34m.\u001b[0m\u001b[0m__loss\u001b[0m\u001b[0;34m.\u001b[0m\u001b[0mderivative\u001b[0m\u001b[0;34m(\u001b[0m\u001b[0my\u001b[0m\u001b[0;34m,\u001b[0m \u001b[0mnetwork_output\u001b[0m\u001b[0;34m)\u001b[0m\u001b[0;34m\u001b[0m\u001b[0;34m\u001b[0m\u001b[0m\n\u001b[1;32m    103\u001b[0m             \u001b[0;32mfor\u001b[0m \u001b[0mlayer_cnt\u001b[0m \u001b[0;32min\u001b[0m \u001b[0mrange\u001b[0m\u001b[0;34m(\u001b[0m\u001b[0mlen\u001b[0m\u001b[0;34m(\u001b[0m\u001b[0mfor_updating_net\u001b[0m\u001b[0;34m)\u001b[0m\u001b[0;34m-\u001b[0m\u001b[0;36m1\u001b[0m\u001b[0;34m,\u001b[0m \u001b[0;34m-\u001b[0m\u001b[0;36m1\u001b[0m\u001b[0;34m,\u001b[0m \u001b[0;34m-\u001b[0m\u001b[0;36m1\u001b[0m\u001b[0;34m)\u001b[0m\u001b[0;34m:\u001b[0m\u001b[0;34m\u001b[0m\u001b[0;34m\u001b[0m\u001b[0m\n\u001b[0;32m--> 104\u001b[0;31m                 \u001b[0mbackprop_tensor\u001b[0m \u001b[0;34m=\u001b[0m \u001b[0mfor_updating_net\u001b[0m\u001b[0;34m[\u001b[0m\u001b[0mlayer_cnt\u001b[0m\u001b[0;34m]\u001b[0m\u001b[0;34m.\u001b[0m\u001b[0mupdate_weights\u001b[0m\u001b[0;34m(\u001b[0m\u001b[0mbackprop_tensor\u001b[0m\u001b[0;34m,\u001b[0m \u001b[0mself\u001b[0m\u001b[0;34m.\u001b[0m\u001b[0m__lr\u001b[0m\u001b[0;34m)\u001b[0m\u001b[0;34m\u001b[0m\u001b[0;34m\u001b[0m\u001b[0m\n\u001b[0m\u001b[1;32m    105\u001b[0m \u001b[0;34m\u001b[0m\u001b[0m\n\u001b[1;32m    106\u001b[0m         \u001b[0mself\u001b[0m\u001b[0;34m.\u001b[0m\u001b[0m__layers_list\u001b[0m \u001b[0;34m=\u001b[0m \u001b[0mdeepcopy\u001b[0m\u001b[0;34m(\u001b[0m\u001b[0mfor_updating_net\u001b[0m\u001b[0;34m)\u001b[0m\u001b[0;34m\u001b[0m\u001b[0;34m\u001b[0m\u001b[0m\n",
      "\u001b[0;32m<ipython-input-19-4c125b555a26>\u001b[0m in \u001b[0;36mupdate_weights\u001b[0;34m(self, backprop_tensor, lr)\u001b[0m\n\u001b[1;32m     47\u001b[0m                                 np.array(self.__last_activation_derivative))\n\u001b[1;32m     48\u001b[0m         \u001b[0mself\u001b[0m\u001b[0;34m.\u001b[0m\u001b[0m__bias\u001b[0m \u001b[0;34m-=\u001b[0m \u001b[0mlr\u001b[0m \u001b[0;34m*\u001b[0m \u001b[0mnp\u001b[0m\u001b[0;34m.\u001b[0m\u001b[0marray\u001b[0m\u001b[0;34m(\u001b[0m\u001b[0mbackprop_tensor\u001b[0m\u001b[0;34m)\u001b[0m \u001b[0;34m*\u001b[0m \u001b[0mnp\u001b[0m\u001b[0;34m.\u001b[0m\u001b[0marray\u001b[0m\u001b[0;34m(\u001b[0m\u001b[0mself\u001b[0m\u001b[0;34m.\u001b[0m\u001b[0m__last_activation_derivative\u001b[0m\u001b[0;34m)\u001b[0m\u001b[0;34m\u001b[0m\u001b[0;34m\u001b[0m\u001b[0m\n\u001b[0;32m---> 49\u001b[0;31m         \u001b[0mbackprop_tensor\u001b[0m \u001b[0;34m=\u001b[0m \u001b[0mnp\u001b[0m\u001b[0;34m.\u001b[0m\u001b[0mdot\u001b[0m\u001b[0;34m(\u001b[0m\u001b[0mnp\u001b[0m\u001b[0;34m.\u001b[0m\u001b[0marray\u001b[0m\u001b[0;34m(\u001b[0m\u001b[0mbackprop_tensor\u001b[0m\u001b[0;34m)\u001b[0m\u001b[0;34m*\u001b[0m\u001b[0mnp\u001b[0m\u001b[0;34m.\u001b[0m\u001b[0marray\u001b[0m\u001b[0;34m(\u001b[0m\u001b[0mself\u001b[0m\u001b[0;34m.\u001b[0m\u001b[0m__last_activation_derivative\u001b[0m\u001b[0;34m)\u001b[0m\u001b[0;34m,\u001b[0m \u001b[0mnp\u001b[0m\u001b[0;34m.\u001b[0m\u001b[0mtranspose\u001b[0m\u001b[0;34m(\u001b[0m\u001b[0mself\u001b[0m\u001b[0;34m.\u001b[0m\u001b[0m__weight\u001b[0m\u001b[0;34m)\u001b[0m\u001b[0;34m)\u001b[0m\u001b[0;34m\u001b[0m\u001b[0;34m\u001b[0m\u001b[0m\n\u001b[0m\u001b[1;32m     50\u001b[0m \u001b[0;34m\u001b[0m\u001b[0m\n\u001b[1;32m     51\u001b[0m         \u001b[0;32mreturn\u001b[0m \u001b[0mbackprop_tensor\u001b[0m\u001b[0;34m\u001b[0m\u001b[0;34m\u001b[0m\u001b[0m\n",
      "\u001b[0;32m<__array_function__ internals>\u001b[0m in \u001b[0;36mdot\u001b[0;34m(*args, **kwargs)\u001b[0m\n",
      "\u001b[0;31mKeyboardInterrupt\u001b[0m: "
     ]
    }
   ],
   "source": [
    "# Sample code for building and training a model\n",
    "\n",
    "#INPUT_SHAPE = [1,28*28]\n",
    "INPUT_SHAPE = 28*28\n",
    "LEARNING_RATE = 0.001\n",
    "EPOCHS = 3\n",
    "TRAINLOADER = Dataloader(data=np_train_scaled, labels=np_train_labels,\n",
    "                         n_classes = 20, batch_size=64, shuffle=False)\n",
    "\n",
    "TESTLOADER = Dataloader(data=np_test_scaled, labels=np_test_labels,\n",
    "                         n_classes = 20, batch_size=64, shuffle=False)\n",
    "\n",
    "\n",
    "network = FeedForwardNN(INPUT_SHAPE)\n",
    "######################change\n",
    "network.add_layer(n_neurons=32, input_shape=INPUT_SHAPE, activation=Relu(), weight_initializer='uniform')\n",
    "network.add_layer(n_neurons=20, activation=Identical(), weight_initializer='uniform')\n",
    "network.set_training_param(loss=CrossEntropy(), lr=LEARNING_RATE)\n",
    "\n",
    "log = network.fit(EPOCHS, TRAINLOADER, TESTLOADER)"
   ]
  }
 ],
 "metadata": {
  "accelerator": "GPU",
  "colab": {
   "collapsed_sections": [],
   "name": "AI_CA5.ipynb",
   "provenance": []
  },
  "kernelspec": {
   "display_name": "Python 3",
   "language": "python",
   "name": "python3"
  },
  "language_info": {
   "codemirror_mode": {
    "name": "ipython",
    "version": 3
   },
   "file_extension": ".py",
   "mimetype": "text/x-python",
   "name": "python",
   "nbconvert_exporter": "python",
   "pygments_lexer": "ipython3",
   "version": "3.8.8"
  }
 },
 "nbformat": 4,
 "nbformat_minor": 1
}
